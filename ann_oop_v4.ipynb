{
 "cells": [
  {
   "cell_type": "markdown",
   "metadata": {},
   "source": [
    "Okay, let's start over after we've understood some maths. "
   ]
  },
  {
   "cell_type": "code",
   "execution_count": 136,
   "metadata": {},
   "outputs": [],
   "source": [
    "# Imports:\n",
    "import numpy as np\n",
    "import matplotlib.pyplot as plt\n",
    "import pandas as pd\n",
    "import math\n",
    "\n",
    "# Data Setup:\n",
    "X = np.load('data/X-data.npy')\n",
    "y = np.load('data/y-data.npy')\n",
    "\n",
    "error_viz = []\n",
    "\n",
    "np.random.seed(20)"
   ]
  },
  {
   "cell_type": "code",
   "execution_count": 137,
   "metadata": {},
   "outputs": [],
   "source": [
    "def split_test_train(X, y, rate=0.2):\n",
    "    # First shuffle randomly \n",
    "    assert len(X) == len(y)\n",
    "    p = np.random.permutation(len(X))\n",
    "    X_shuffled, y_shuffled = X[p], y[p]\n",
    "    \n",
    "    # Split into test and train set\n",
    "    i_test = round(len(X) * 0.2)\n",
    "    X_test, X_train = X_shuffled[:i_test], X_shuffled[i_test:]\n",
    "    y_test, y_train = y_shuffled[:i_test], y_shuffled[i_test:]\n",
    "    \n",
    "    return X_train, y_train, X_test, y_test\n",
    "    \n",
    "X_train, y_train, X_test, y_test = split_test_train(X, y)"
   ]
  },
  {
   "cell_type": "code",
   "execution_count": 138,
   "metadata": {},
   "outputs": [],
   "source": [
    "# Abstract Class Definitions: \n",
    "class Layer():\n",
    "    def __init__(self): \n",
    "        self.inputs = None  # The inputs into this layer. \n",
    "        self.outputs = None # The ouputs of this layer. \n",
    "        \n",
    "    # Forward propagation method.\n",
    "    def forward(self, inputs):\n",
    "        pass\n",
    "    \n",
    "    # Backward propagation method.\n",
    "    def backward(self):\n",
    "        pass\n",
    "    \n",
    "class Activation():\n",
    "    def activate():\n",
    "        pass\n",
    "    \n",
    "    def prime():\n",
    "        pass\n",
    "    \n",
    "class Loss():\n",
    "    def calculate_loss():\n",
    "        pass"
   ]
  },
  {
   "cell_type": "code",
   "execution_count": 139,
   "metadata": {},
   "outputs": [],
   "source": [
    "class ReLU(Activation):\n",
    "    def activate(self, x): \n",
    "        return np.maximum(x, 0.0)\n",
    "    \n",
    "    def derivative(self, x):\n",
    "        return (x > 0) * 1  # * 1 to return a number.\n",
    "    \n",
    "class Sigmoid(Activation):\n",
    "    def activate(self, x):\n",
    "        result = np.mean(1 / (1 + np.exp(-x)))\n",
    "        return result\n",
    "    \n",
    "    def derivative(self, x):\n",
    "        s = self.activate(x)\n",
    "        return s * (1 - s)"
   ]
  },
  {
   "cell_type": "code",
   "execution_count": 140,
   "metadata": {},
   "outputs": [],
   "source": [
    "class CrossEntropyLoss():\n",
    "    def calculate_loss(self, y_true, y_pred):\n",
    "        if y_true == 1.0:\n",
    "            return np.mean(-np.log(y_pred))\n",
    "        else:\n",
    "            return np.mean(-np.log(1-y_pred))\n",
    "    \n",
    "    def derivative(self, y_true, y_pred): \n",
    "        r = (y_pred - y_true) / y_pred * (1 - y_pred)\n",
    "        return r\n",
    "    \n",
    "class MSELoss():\n",
    "    def calculate_loss(self, y_true, y_pred):\n",
    "        return np.mean(1/2 * (y_true - y_pred)**2)\n",
    "    \n",
    "    def derivative(self, y_true, y_pred):\n",
    "        return y_pred - y_true  # (y_true - y_pred) * (-1)"
   ]
  },
  {
   "cell_type": "code",
   "execution_count": 141,
   "metadata": {},
   "outputs": [],
   "source": [
    "# Dense (fully connected) Layer Class:\n",
    "class Dense(Layer): \n",
    "    def __init__(self, input_size, output_size, activation_function='relu', name='unnamed'):\n",
    "        self.name = name\n",
    "        self.weights = np.random.randn(output_size, input_size)\n",
    "        self.biases = np.zeros((output_size, 1))\n",
    "        self.outputs = None\n",
    "        \n",
    "        if activation_function == 'relu':\n",
    "            self.activation = ReLU()\n",
    "        elif activation_function == 'sigmoid':\n",
    "            self.activation = Sigmoid()\n",
    "        else:\n",
    "            self.activation = ReLU()  # Default to ReLU activation function.\n",
    "        \n",
    "    def print_weights(self):\n",
    "        print('Weights:\\n', pd.DataFrame(self.weights))\n",
    "        \n",
    "    def print_biases(self):\n",
    "        print('Biases:\\n', pd.DataFrame(self.biases))\n",
    "    \n",
    "    def forward(self, inputs):\n",
    "        self.inputs = inputs\n",
    "        self.outputs = self.activation.activate(np.dot(self.weights, inputs) + self.biases)\n",
    "        return self.outputs\n",
    "    \n",
    "    def backward(self, delta_l, prev_weights, learning_rate):        \n",
    "        print(self.name)\n",
    "        print('weights', self.weights.shape)\n",
    "        print('delta_l', delta_l.shape)\n",
    "        delta_l = np.dot(delta_l.T, prev_weights) * self.activation.derivative(self.outputs).T\n",
    "        prev_weights = self.weights\n",
    "        gradient = delta_l * np.dot(self.inputs, np.ones((1, len(self.outputs))))\n",
    "        self.weights -= learning_rate * gradient.T \n",
    "        return delta_l, prev_weights"
   ]
  },
  {
   "cell_type": "code",
   "execution_count": 142,
   "metadata": {},
   "outputs": [],
   "source": [
    "class Network:\n",
    "    def __init__(self, layers, loss_function='cross_entropy'):\n",
    "        self.layers = layers\n",
    "        self.output = None\n",
    "        \n",
    "        if loss_function == 'cross_entropy':\n",
    "            self.loss = CrossEntropyLoss()\n",
    "        elif loss_function == 'mse':\n",
    "            self.loss = MSELoss()\n",
    "        else:\n",
    "            self.loss = CrossEntropyLoss()  # Default to cross entropy loss. \n",
    "    \n",
    "    def train(self, X_train, y_train, number_epochs, learning_rate=0.001):\n",
    "        for epoch in range(number_epochs):\n",
    "            error_v = 0\n",
    "            \n",
    "            for x, y in zip(X_train, y_train):\n",
    "                # Process the forward pass. This goes through every layer.\n",
    "                x = x.reshape(21, 1)  # Create a matrix for dot product in forward()\n",
    "                y_hat = self.predict(x) \n",
    "                \n",
    "                # Calculate the error after the forward pass. \n",
    "                loss = self.loss.calculate_loss(y, y_hat)\n",
    "                    \n",
    "                error = self.loss.derivative(y, y_hat)\n",
    "                error_v += loss  # Add to the error visualisation.\n",
    "                \n",
    "                l0 = self.layers[0]\n",
    "                l1 = self.layers[-1]\n",
    "                \n",
    "                # The output layer error.\n",
    "                delta_l = np.multiply(error, l1.activation.derivative(l1.outputs))\n",
    "                prev_weights = l1.weights\n",
    "                l1.weights -= learning_rate * (l1.inputs.T * delta_l)\n",
    "                \n",
    "                for layer in reversed(self.layers[:-1]):\n",
    "                    delta_l, prev_weights = layer.backward(delta_l, prev_weights, learning_rate)\n",
    "            \n",
    "            error_v /= len(X)\n",
    "            error_viz.append(error_v)\n",
    "                \n",
    "                   \n",
    "    def predict(self, x):\n",
    "        outputs = x\n",
    "        for layer in self.layers:\n",
    "            outputs = layer.forward(outputs)\n",
    "        self.output = outputs\n",
    "        return outputs\n",
    "            "
   ]
  },
  {
   "cell_type": "markdown",
   "metadata": {},
   "source": [
    "For backpropagation, the formula for the very last layer is: \n",
    "![last-layer-backprop](https://miro.medium.com/max/828/1*zRDMl-GxVO7qENH5dNrZ-g.png)"
   ]
  },
  {
   "cell_type": "code",
   "execution_count": 143,
   "metadata": {},
   "outputs": [],
   "source": [
    "np.random.seed(20)  # To keep results consistent.\n",
    "\n",
    "number_inputs = X.shape[1]\n",
    "epochs = 200\n",
    "\n",
    "layers = [\n",
    "    Dense(number_inputs, 5, activation_function='relu', name='Layer 1'),\n",
    "    Dense(5, 2, activation_function='relu', name='Layer 2'),\n",
    "    Dense(2, 1, activation_function='sigmoid', name='Layer 3'),\n",
    "]"
   ]
  },
  {
   "cell_type": "code",
   "execution_count": 144,
   "metadata": {},
   "outputs": [],
   "source": [
    "def print_layer_outputs(network):\n",
    "    for layer in network.layers:\n",
    "        print(layer.name, layer.outputs.shape, ':\\n', layer.outputs)"
   ]
  },
  {
   "cell_type": "code",
   "execution_count": 145,
   "metadata": {},
   "outputs": [
    {
     "name": "stdout",
     "output_type": "stream",
     "text": [
      "Layer 2\n",
      "weights (2, 5)\n",
      "delta_l ()\n",
      "Layer 1\n",
      "weights (5, 21)\n",
      "delta_l (1, 2)\n"
     ]
    },
    {
     "ename": "ValueError",
     "evalue": "shapes (2,1) and (2,5) not aligned: 1 (dim 1) != 2 (dim 0)",
     "output_type": "error",
     "traceback": [
      "\u001b[1;31m---------------------------------------------------------------------------\u001b[0m",
      "\u001b[1;31mValueError\u001b[0m                                Traceback (most recent call last)",
      "\u001b[1;32mc:\\Users\\Laura\\OneDrive - Heriot-Watt University\\semester-seven\\bic\\breast-cancer-classifier\\ann_oop_v4.ipynb Cell 12\u001b[0m in \u001b[0;36m<cell line: 2>\u001b[1;34m()\u001b[0m\n\u001b[0;32m      <a href='vscode-notebook-cell:/c%3A/Users/Laura/OneDrive%20-%20Heriot-Watt%20University/semester-seven/bic/breast-cancer-classifier/ann_oop_v4.ipynb#X61sZmlsZQ%3D%3D?line=0'>1</a>\u001b[0m network \u001b[39m=\u001b[39m Network(layers, loss_function\u001b[39m=\u001b[39m\u001b[39m'\u001b[39m\u001b[39mcross_entropy\u001b[39m\u001b[39m'\u001b[39m)\n\u001b[1;32m----> <a href='vscode-notebook-cell:/c%3A/Users/Laura/OneDrive%20-%20Heriot-Watt%20University/semester-seven/bic/breast-cancer-classifier/ann_oop_v4.ipynb#X61sZmlsZQ%3D%3D?line=1'>2</a>\u001b[0m network\u001b[39m.\u001b[39;49mtrain(X_train, y_train, number_epochs\u001b[39m=\u001b[39;49mepochs)\n",
      "\u001b[1;32mc:\\Users\\Laura\\OneDrive - Heriot-Watt University\\semester-seven\\bic\\breast-cancer-classifier\\ann_oop_v4.ipynb Cell 12\u001b[0m in \u001b[0;36mNetwork.train\u001b[1;34m(self, X_train, y_train, number_epochs, learning_rate)\u001b[0m\n\u001b[0;32m     <a href='vscode-notebook-cell:/c%3A/Users/Laura/OneDrive%20-%20Heriot-Watt%20University/semester-seven/bic/breast-cancer-classifier/ann_oop_v4.ipynb#X61sZmlsZQ%3D%3D?line=33'>34</a>\u001b[0m     l1\u001b[39m.\u001b[39mweights \u001b[39m-\u001b[39m\u001b[39m=\u001b[39m learning_rate \u001b[39m*\u001b[39m (l1\u001b[39m.\u001b[39minputs\u001b[39m.\u001b[39mT \u001b[39m*\u001b[39m delta_l)\n\u001b[0;32m     <a href='vscode-notebook-cell:/c%3A/Users/Laura/OneDrive%20-%20Heriot-Watt%20University/semester-seven/bic/breast-cancer-classifier/ann_oop_v4.ipynb#X61sZmlsZQ%3D%3D?line=35'>36</a>\u001b[0m     \u001b[39mfor\u001b[39;00m layer \u001b[39min\u001b[39;00m \u001b[39mreversed\u001b[39m(\u001b[39mself\u001b[39m\u001b[39m.\u001b[39mlayers[:\u001b[39m-\u001b[39m\u001b[39m1\u001b[39m]):\n\u001b[1;32m---> <a href='vscode-notebook-cell:/c%3A/Users/Laura/OneDrive%20-%20Heriot-Watt%20University/semester-seven/bic/breast-cancer-classifier/ann_oop_v4.ipynb#X61sZmlsZQ%3D%3D?line=36'>37</a>\u001b[0m         delta_l, prev_weights \u001b[39m=\u001b[39m layer\u001b[39m.\u001b[39;49mbackward(delta_l, prev_weights, learning_rate)\n\u001b[0;32m     <a href='vscode-notebook-cell:/c%3A/Users/Laura/OneDrive%20-%20Heriot-Watt%20University/semester-seven/bic/breast-cancer-classifier/ann_oop_v4.ipynb#X61sZmlsZQ%3D%3D?line=38'>39</a>\u001b[0m error_v \u001b[39m/\u001b[39m\u001b[39m=\u001b[39m \u001b[39mlen\u001b[39m(X)\n\u001b[0;32m     <a href='vscode-notebook-cell:/c%3A/Users/Laura/OneDrive%20-%20Heriot-Watt%20University/semester-seven/bic/breast-cancer-classifier/ann_oop_v4.ipynb#X61sZmlsZQ%3D%3D?line=39'>40</a>\u001b[0m error_viz\u001b[39m.\u001b[39mappend(error_v)\n",
      "\u001b[1;32mc:\\Users\\Laura\\OneDrive - Heriot-Watt University\\semester-seven\\bic\\breast-cancer-classifier\\ann_oop_v4.ipynb Cell 12\u001b[0m in \u001b[0;36mDense.backward\u001b[1;34m(self, delta_l, prev_weights, learning_rate)\u001b[0m\n\u001b[0;32m     <a href='vscode-notebook-cell:/c%3A/Users/Laura/OneDrive%20-%20Heriot-Watt%20University/semester-seven/bic/breast-cancer-classifier/ann_oop_v4.ipynb#X61sZmlsZQ%3D%3D?line=28'>29</a>\u001b[0m \u001b[39mprint\u001b[39m(\u001b[39m'\u001b[39m\u001b[39mweights\u001b[39m\u001b[39m'\u001b[39m, \u001b[39mself\u001b[39m\u001b[39m.\u001b[39mweights\u001b[39m.\u001b[39mshape)     \n\u001b[0;32m     <a href='vscode-notebook-cell:/c%3A/Users/Laura/OneDrive%20-%20Heriot-Watt%20University/semester-seven/bic/breast-cancer-classifier/ann_oop_v4.ipynb#X61sZmlsZQ%3D%3D?line=29'>30</a>\u001b[0m \u001b[39mprint\u001b[39m(\u001b[39m'\u001b[39m\u001b[39mdelta_l\u001b[39m\u001b[39m'\u001b[39m, delta_l\u001b[39m.\u001b[39mshape)     \n\u001b[1;32m---> <a href='vscode-notebook-cell:/c%3A/Users/Laura/OneDrive%20-%20Heriot-Watt%20University/semester-seven/bic/breast-cancer-classifier/ann_oop_v4.ipynb#X61sZmlsZQ%3D%3D?line=30'>31</a>\u001b[0m delta_l \u001b[39m=\u001b[39m np\u001b[39m.\u001b[39;49mdot(delta_l\u001b[39m.\u001b[39;49mT, prev_weights) \u001b[39m*\u001b[39m \u001b[39mself\u001b[39m\u001b[39m.\u001b[39mactivation\u001b[39m.\u001b[39mderivative(\u001b[39mself\u001b[39m\u001b[39m.\u001b[39moutputs)\u001b[39m.\u001b[39mT\n\u001b[0;32m     <a href='vscode-notebook-cell:/c%3A/Users/Laura/OneDrive%20-%20Heriot-Watt%20University/semester-seven/bic/breast-cancer-classifier/ann_oop_v4.ipynb#X61sZmlsZQ%3D%3D?line=31'>32</a>\u001b[0m prev_weights \u001b[39m=\u001b[39m \u001b[39mself\u001b[39m\u001b[39m.\u001b[39mweights\n\u001b[0;32m     <a href='vscode-notebook-cell:/c%3A/Users/Laura/OneDrive%20-%20Heriot-Watt%20University/semester-seven/bic/breast-cancer-classifier/ann_oop_v4.ipynb#X61sZmlsZQ%3D%3D?line=32'>33</a>\u001b[0m gradient \u001b[39m=\u001b[39m delta_l \u001b[39m*\u001b[39m np\u001b[39m.\u001b[39mdot(\u001b[39mself\u001b[39m\u001b[39m.\u001b[39minputs, np\u001b[39m.\u001b[39mones((\u001b[39m1\u001b[39m, \u001b[39mlen\u001b[39m(\u001b[39mself\u001b[39m\u001b[39m.\u001b[39moutputs))))\n",
      "File \u001b[1;32m<__array_function__ internals>:180\u001b[0m, in \u001b[0;36mdot\u001b[1;34m(*args, **kwargs)\u001b[0m\n",
      "\u001b[1;31mValueError\u001b[0m: shapes (2,1) and (2,5) not aligned: 1 (dim 1) != 2 (dim 0)"
     ]
    }
   ],
   "source": [
    "network = Network(layers, loss_function='cross_entropy')\n",
    "network.train(X_train, y_train, number_epochs=epochs)\n",
    "#print_layer_outputs(network)"
   ]
  },
  {
   "cell_type": "code",
   "execution_count": null,
   "metadata": {},
   "outputs": [
    {
     "data": {
      "image/png": "[encoded data removed]",
      "text/plain": [
       "<Figure size 640x480 with 1 Axes>"
      ]
     },
     "metadata": {},
     "output_type": "display_data"
    }
   ],
   "source": [
    "plt.plot(error_viz)\n",
    "plt.title(\"Training\")\n",
    "plt.xlabel(\"Epochs\")\n",
    "plt.ylabel(\"Loss\")\n",
    "plt.show()"
   ]
  },
  {
   "cell_type": "code",
   "execution_count": null,
   "metadata": {},
   "outputs": [],
   "source": [
    "pred = []\n",
    "for i in X:\n",
    "    pred.append(network.predict(i.reshape(21, 1)))"
   ]
  },
  {
   "cell_type": "code",
   "execution_count": null,
   "metadata": {},
   "outputs": [],
   "source": [
    "res = pd.DataFrame()\n",
    "res[\"predictions\"] = pred\n",
    "res[\"actual\"] = y"
   ]
  },
  {
   "cell_type": "code",
   "execution_count": null,
   "metadata": {},
   "outputs": [],
   "source": [
    "res[\"predictions\"] = res[\"predictions\"].apply(lambda x: 0 if x < 0.5 else 1)"
   ]
  },
  {
   "cell_type": "code",
   "execution_count": null,
   "metadata": {},
   "outputs": [
    {
     "name": "stdout",
     "output_type": "stream",
     "text": [
      "Accuracy: 91.91564147627417\n"
     ]
    }
   ],
   "source": [
    "print(\"Accuracy:\", sum(x == y for x, y in zip(res['predictions'], res['actual'])) / len(X) * 100)"
   ]
  }
 ],
 "metadata": {
  "kernelspec": {
   "display_name": "Python 3",
   "language": "python",
   "name": "python3"
  },
  "language_info": {
   "codemirror_mode": {
    "name": "ipython",
    "version": 3
   },
   "file_extension": ".py",
   "mimetype": "text/x-python",
   "name": "python",
   "nbconvert_exporter": "python",
   "pygments_lexer": "ipython3",
   "version": "3.9.13"
  },
  "vscode": {
   "interpreter": {
    "hash": "d80a60b5cae90d0132c97af96d84f3faaaa5679a5193fa9421d1db0d11796e0e"
   }
  }
 },
 "nbformat": 4,
 "nbformat_minor": 2
}
