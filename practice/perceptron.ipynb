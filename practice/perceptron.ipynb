{
 "cells": [
  {
   "cell_type": "code",
   "execution_count": 9,
   "metadata": {},
   "outputs": [],
   "source": [
    "import numpy as np\n",
    "import matplotlib.pyplot as plt\n",
    "import pandas as pd\n",
    "import random"
   ]
  },
  {
   "cell_type": "code",
   "execution_count": 5,
   "metadata": {},
   "outputs": [
    {
     "data": {
      "text/html": [
       "<div>\n",
       "<style scoped>\n",
       "    .dataframe tbody tr th:only-of-type {\n",
       "        vertical-align: middle;\n",
       "    }\n",
       "\n",
       "    .dataframe tbody tr th {\n",
       "        vertical-align: top;\n",
       "    }\n",
       "\n",
       "    .dataframe thead th {\n",
       "        text-align: right;\n",
       "    }\n",
       "</style>\n",
       "<table border=\"1\" class=\"dataframe\">\n",
       "  <thead>\n",
       "    <tr style=\"text-align: right;\">\n",
       "      <th></th>\n",
       "      <th>feature1</th>\n",
       "      <th>feature2</th>\n",
       "      <th>class</th>\n",
       "    </tr>\n",
       "  </thead>\n",
       "  <tbody>\n",
       "    <tr>\n",
       "      <th>0</th>\n",
       "      <td>0.72</td>\n",
       "      <td>0.82</td>\n",
       "      <td>-1</td>\n",
       "    </tr>\n",
       "    <tr>\n",
       "      <th>1</th>\n",
       "      <td>0.91</td>\n",
       "      <td>-0.69</td>\n",
       "      <td>-1</td>\n",
       "    </tr>\n",
       "    <tr>\n",
       "      <th>2</th>\n",
       "      <td>0.03</td>\n",
       "      <td>0.93</td>\n",
       "      <td>-1</td>\n",
       "    </tr>\n",
       "    <tr>\n",
       "      <th>3</th>\n",
       "      <td>0.12</td>\n",
       "      <td>0.25</td>\n",
       "      <td>-1</td>\n",
       "    </tr>\n",
       "    <tr>\n",
       "      <th>4</th>\n",
       "      <td>0.96</td>\n",
       "      <td>0.47</td>\n",
       "      <td>-1</td>\n",
       "    </tr>\n",
       "  </tbody>\n",
       "</table>\n",
       "</div>"
      ],
      "text/plain": [
       "   feature1  feature2  class\n",
       "0      0.72      0.82     -1\n",
       "1      0.91     -0.69     -1\n",
       "2      0.03      0.93     -1\n",
       "3      0.12      0.25     -1\n",
       "4      0.96      0.47     -1"
      ]
     },
     "execution_count": 5,
     "metadata": {},
     "output_type": "execute_result"
    }
   ],
   "source": [
    "data = pd.read_csv('../data/random_data.csv')\n",
    "data.head()"
   ]
  },
  {
   "cell_type": "code",
   "execution_count": 8,
   "metadata": {},
   "outputs": [
    {
     "data": {
      "text/plain": [
       "<AxesSubplot:xlabel='feature1', ylabel='feature2'>"
      ]
     },
     "execution_count": 8,
     "metadata": {},
     "output_type": "execute_result"
    },
    {
     "data": {
      "image/png": "[encoded data removed]",
      "text/plain": [
       "<Figure size 640x480 with 2 Axes>"
      ]
     },
     "metadata": {},
     "output_type": "display_data"
    }
   ],
   "source": [
    "data.plot.scatter(x='feature1', y='feature2', c='class', colormap='viridis')"
   ]
  },
  {
   "cell_type": "code",
   "execution_count": 15,
   "metadata": {},
   "outputs": [
    {
     "data": {
      "text/plain": [
       "array([ 0.91, -0.69])"
      ]
     },
     "execution_count": 15,
     "metadata": {},
     "output_type": "execute_result"
    }
   ],
   "source": [
    "data_np = data.to_numpy()\n",
    "data_np[1][:-1]"
   ]
  },
  {
   "cell_type": "code",
   "execution_count": 26,
   "metadata": {},
   "outputs": [],
   "source": [
    "# Initialise weights\n",
    "weights = [0.2, 1.0, -1.0]\n",
    "\n",
    "# Initialise bias\n",
    "bias = [1]\n",
    "\n",
    "# Predict function\n",
    "def predict(inputs, weights, bias, threshold):\n",
    "    total_activation = 0.0\n",
    "    for input, weight in zip(inputs, weights):\n",
    "        total_activation += input*weight\n",
    "    total_activation += bias\n",
    "    return 1.0 if total_activation >= threshold else 0.0\n",
    "\n",
    "# Accuracy function\n",
    "def accuracy(data, bias, weights):\n",
    "    num_correct = 0.0\n",
    "    predictions = []\n",
    "    for i in range(len(data)):\n",
    "        # get predicted classification\n",
    "        prediction = predict(data[i][:-1], weights, bias, 0.5)\n",
    "        predictions.append(prediction)\n",
    "        if prediction == data[i][-1]: num_correct+= 1.0\n",
    "    print('Predictions: ', predictions)\n",
    "    \n",
    "    return num_correct/float(len(data))  # Returns overall prediction accuracy\n",
    "\n",
    "# Train the Perceptron on the data, the trained weights are returned at the end of the function\n",
    "def train_weights(\n",
    "    data, weights, bias, n_epochs=10, learning_rate=1.0, do_plot=False, stop_early=True, verbose=True\n",
    "):\n",
    "    # iterate for the number of epochs requested\n",
    "    for epoch in range(n_epochs):\n",
    "        # calculate the current accuracy \n",
    "        current_acc = accuracy(data, bias, weights)\n",
    "        # print out information\n",
    "        print(\"\\nEpoch %s \\nWeights: \"%epoch, weights)\n",
    "        print(\"Accuracy: \", current_acc)\n",
    "        \n",
    "        # check if we have finished the training\n",
    "        if current_acc == 1.0 and stop_early: break\n",
    "        \n",
    "        # check if we should plot the current results\n",
    "        if do_plot: pass\n",
    "        \n",
    "        # iterate over teach training input\n",
    "        for i in range(len(data)): \n",
    "            # calculate prediction \n",
    "            prediction = predict(data[i][:-1], weights, bias, 0.5)\n",
    "            # calculate error\n",
    "            error = data[i][-1] - prediction\n",
    "        \n",
    "        # iterate over each weight and update it\n",
    "        for j in range(len(weights)):\n",
    "            weights[j] = weights[j] + (learning_rate * error * data[i][j])\n",
    "        \n",
    "        # update the bias\n",
    "        bias = bias + (learning_rate * error)\n",
    "\n",
    "    # plot out the final results\n",
    "    \n",
    "    return weights"
   ]
  },
  {
   "cell_type": "code",
   "execution_count": 27,
   "metadata": {},
   "outputs": [
    {
     "name": "stdout",
     "output_type": "stream",
     "text": [
      "Predictions:  [1.0, 0.0, 1.0, 1.0, 1.0, 0.0, 1.0, 1.0, 1.0, 1.0, 1.0, 0.0, 1.0, 0.0, 0.0, 0.0, 1.0, 0.0, 1.0, 0.0]\n",
      "\n",
      "Epoch 0 \n",
      "Weights:  [0.2, 1.0, -1.0]\n",
      "Accuracy:  0.2\n",
      "Predictions:  [1.0, 1.0, 1.0, 1.0, 1.0, 1.0, 1.0, 1.0, 1.0, 1.0, 1.0, 1.0, 1.0, 1.0, 1.0, 1.0, 1.0, 1.0, 1.0, 1.0]\n",
      "\n",
      "Epoch 1 \n",
      "Weights:  [-0.5700000000000001, 0.24, 0.0]\n",
      "Accuracy:  0.5\n",
      "Predictions:  [1.0, 1.0, 1.0, 1.0, 1.0, 1.0, 1.0, 1.0, 1.0, 1.0, 1.0, 1.0, 1.0, 1.0, 1.0, 1.0, 1.0, 1.0, 1.0, 1.0]\n",
      "\n",
      "Epoch 2 \n",
      "Weights:  [-0.5700000000000001, 0.24, 0.0]\n",
      "Accuracy:  0.5\n",
      "Predictions:  [1.0, 1.0, 1.0, 1.0, 1.0, 1.0, 1.0, 1.0, 1.0, 1.0, 1.0, 1.0, 1.0, 1.0, 1.0, 1.0, 1.0, 1.0, 1.0, 1.0]\n",
      "\n",
      "Epoch 3 \n",
      "Weights:  [-0.5700000000000001, 0.24, 0.0]\n",
      "Accuracy:  0.5\n",
      "Predictions:  [1.0, 1.0, 1.0, 1.0, 1.0, 1.0, 1.0, 1.0, 1.0, 1.0, 1.0, 1.0, 1.0, 1.0, 1.0, 1.0, 1.0, 1.0, 1.0, 1.0]\n",
      "\n",
      "Epoch 4 \n",
      "Weights:  [-0.5700000000000001, 0.24, 0.0]\n",
      "Accuracy:  0.5\n",
      "Predictions:  [1.0, 1.0, 1.0, 1.0, 1.0, 1.0, 1.0, 1.0, 1.0, 1.0, 1.0, 1.0, 1.0, 1.0, 1.0, 1.0, 1.0, 1.0, 1.0, 1.0]\n",
      "\n",
      "Epoch 5 \n",
      "Weights:  [-0.5700000000000001, 0.24, 0.0]\n",
      "Accuracy:  0.5\n",
      "Predictions:  [1.0, 1.0, 1.0, 1.0, 1.0, 1.0, 1.0, 1.0, 1.0, 1.0, 1.0, 1.0, 1.0, 1.0, 1.0, 1.0, 1.0, 1.0, 1.0, 1.0]\n",
      "\n",
      "Epoch 6 \n",
      "Weights:  [-0.5700000000000001, 0.24, 0.0]\n",
      "Accuracy:  0.5\n",
      "Predictions:  [1.0, 1.0, 1.0, 1.0, 1.0, 1.0, 1.0, 1.0, 1.0, 1.0, 1.0, 1.0, 1.0, 1.0, 1.0, 1.0, 1.0, 1.0, 1.0, 1.0]\n",
      "\n",
      "Epoch 7 \n",
      "Weights:  [-0.5700000000000001, 0.24, 0.0]\n",
      "Accuracy:  0.5\n",
      "Predictions:  [1.0, 1.0, 1.0, 1.0, 1.0, 1.0, 1.0, 1.0, 1.0, 1.0, 1.0, 1.0, 1.0, 1.0, 1.0, 1.0, 1.0, 1.0, 1.0, 1.0]\n",
      "\n",
      "Epoch 8 \n",
      "Weights:  [-0.5700000000000001, 0.24, 0.0]\n",
      "Accuracy:  0.5\n",
      "Predictions:  [1.0, 1.0, 1.0, 1.0, 1.0, 1.0, 1.0, 1.0, 1.0, 1.0, 1.0, 1.0, 1.0, 1.0, 1.0, 1.0, 1.0, 1.0, 1.0, 1.0]\n",
      "\n",
      "Epoch 9 \n",
      "Weights:  [-0.5700000000000001, 0.24, 0.0]\n",
      "Accuracy:  0.5\n"
     ]
    },
    {
     "data": {
      "text/plain": [
       "[-0.5700000000000001, 0.24, 0.0]"
      ]
     },
     "execution_count": 27,
     "metadata": {},
     "output_type": "execute_result"
    }
   ],
   "source": [
    "train_weights(data_np, weights, bias, n_epochs=10, learning_rate=1.0, do_plot=True, stop_early=True)"
   ]
  }
 ],
 "metadata": {
  "kernelspec": {
   "display_name": "Python 3.9.13 ('F21DL')",
   "language": "python",
   "name": "python3"
  },
  "language_info": {
   "codemirror_mode": {
    "name": "ipython",
    "version": 3
   },
   "file_extension": ".py",
   "mimetype": "text/x-python",
   "name": "python",
   "nbconvert_exporter": "python",
   "pygments_lexer": "ipython3",
   "version": "3.9.13"
  },
  "orig_nbformat": 4,
  "vscode": {
   "interpreter": {
    "hash": "d80a60b5cae90d0132c97af96d84f3faaaa5679a5193fa9421d1db0d11796e0e"
   }
  }
 },
 "nbformat": 4,
 "nbformat_minor": 2
}
