{
 "cells": [
  {
   "cell_type": "markdown",
   "metadata": {},
   "source": [
    "Okay, let's start over after we've understood some maths. "
   ]
  },
  {
   "cell_type": "code",
   "execution_count": 1,
   "metadata": {},
   "outputs": [],
   "source": [
    "# Imports:\n",
    "import numpy as np\n",
    "import matplotlib.pyplot as plt\n",
    "import pandas as pd\n",
    "\n",
    "# Data Setup:\n",
    "X = np.load('data/X-data.npy')\n",
    "y = np.load('data/y-data.npy')\n",
    "\n",
    "error_viz = []\n",
    "\n",
    "np.random.seed(0)"
   ]
  },
  {
   "cell_type": "code",
   "execution_count": 2,
   "metadata": {},
   "outputs": [],
   "source": [
    "def split_test_train(X, y, rate=0.2):\n",
    "    # First shuffle randomly \n",
    "    assert len(X) == len(y)\n",
    "    p = np.random.permutation(len(X))\n",
    "    X_shuffled, y_shuffled = X[p], y[p]\n",
    "    \n",
    "    # Split into test and train set\n",
    "    i_test = round(len(X) * 0.2)\n",
    "    X_test, X_train = X_shuffled[:i_test], X_shuffled[i_test:]\n",
    "    y_test, y_train = y_shuffled[:i_test], y_shuffled[i_test:]\n",
    "    \n",
    "    return X_train, y_train, X_test, y_test\n",
    "    \n",
    "X_train, y_train, X_test, y_test = split_test_train(X, y)"
   ]
  },
  {
   "cell_type": "code",
   "execution_count": 3,
   "metadata": {},
   "outputs": [],
   "source": [
    "# Abstract Class Definitions: \n",
    "class Layer():\n",
    "    def __init__(self): \n",
    "        self.inputs = None  # The inputs into this layer. \n",
    "        self.outputs = None # The ouputs of this layer. \n",
    "        \n",
    "    # Forward propagation method.\n",
    "    def forward(self, inputs):\n",
    "        pass\n",
    "    \n",
    "    # Backward propagation method.\n",
    "    def backward(self):\n",
    "        pass\n",
    "    \n",
    "class Activation():\n",
    "    def activate():\n",
    "        pass\n",
    "    \n",
    "    def prime():\n",
    "        pass\n",
    "    \n",
    "class Loss():\n",
    "    def calculate_loss():\n",
    "        pass"
   ]
  },
  {
   "cell_type": "code",
   "execution_count": 4,
   "metadata": {},
   "outputs": [],
   "source": [
    "class ReLU(Activation):\n",
    "    def activate(self, x): \n",
    "        return np.maximum(x, 0.0)\n",
    "    \n",
    "    def derivative(self, x):\n",
    "        return (x > 0) * 1  # * 1 to return a number.\n",
    "    \n",
    "class Sigmoid(Activation):\n",
    "    def activate(self, x):\n",
    "        return 1 / (1 + np.exp(-0.1*x))\n",
    "    \n",
    "    def derivative(self, x):\n",
    "        s = self.activate(x)\n",
    "        return s * (1 - s)"
   ]
  },
  {
   "cell_type": "code",
   "execution_count": 5,
   "metadata": {},
   "outputs": [],
   "source": [
    "class CrossEntropyLoss():\n",
    "    def calculate_loss(self, y_true, y_pred):\n",
    "        return np.mean(-y_true * np.log(y_pred) - (1 - y_true) * np.log(1 - y_pred))\n",
    "    \n",
    "    def derivative(self, y_true, y_pred): \n",
    "        r = ((1 - y_true) / (1 - y_pred) - y_true / y_pred) / np.size(y_true)\n",
    "        return r\n",
    "    \n",
    "class MSELoss():\n",
    "    def calculate_loss(self, y_true, y_pred):\n",
    "        return np.mean(1/2 * (y_true - y_pred)**2)\n",
    "    \n",
    "    def derivative(self, y_true, y_pred):\n",
    "        return y_pred - y_true  # (y_true - y_pred) * (-1)"
   ]
  },
  {
   "cell_type": "code",
   "execution_count": 6,
   "metadata": {},
   "outputs": [],
   "source": [
    "# Dense (fully connected) Layer Class:\n",
    "class Dense(Layer): \n",
    "    def __init__(self, input_size, output_size, activation_function='relu', name='unnamed'):\n",
    "        self.name = name\n",
    "        self.weights = np.random.randn(output_size, input_size)\n",
    "        self.biases = np.zeros((output_size, 1))\n",
    "        self.outputs = None\n",
    "        \n",
    "        if activation_function == 'relu':\n",
    "            self.activation = ReLU()\n",
    "        elif activation_function == 'sigmoid':\n",
    "            self.activation = Sigmoid()\n",
    "        else:\n",
    "            self.activation = ReLU()  # Default to ReLU activation function.\n",
    "        \n",
    "    def print_weights(self):\n",
    "        print('Weights:\\n', pd.DataFrame(self.weights))\n",
    "        \n",
    "    def print_biases(self):\n",
    "        print('Biases:\\n', pd.DataFrame(self.biases))\n",
    "    \n",
    "    def forward(self, inputs):\n",
    "        self.inputs = inputs\n",
    "        self.outputs = self.activation.activate(np.dot(self.weights, inputs) + self.biases)\n",
    "        return self.outputs\n",
    "    \n",
    "    def backward(self, delta_l, learning_rate):\n",
    "        self.weights -= learning_rate * np.dot(self.outputs.T, delta_l)\n",
    "        return delta_l"
   ]
  },
  {
   "cell_type": "code",
   "execution_count": 7,
   "metadata": {},
   "outputs": [],
   "source": [
    "class Network:\n",
    "    def __init__(self, layers, loss_function='cross_entropy'):\n",
    "        self.layers = layers\n",
    "        self.output = None\n",
    "        \n",
    "        if loss_function == 'cross_entropy':\n",
    "            self.loss = CrossEntropyLoss()\n",
    "        elif loss_function == 'mse':\n",
    "            self.loss = MSELoss()\n",
    "        else:\n",
    "            self.loss = CrossEntropyLoss()  # Default to cross entropy loss. \n",
    "    \n",
    "    def train(self, X_train, y_train, number_epochs, learning_rate=0.01):\n",
    "        for epoch in range(number_epochs):\n",
    "            error_v = 0\n",
    "            \n",
    "            for x, y in zip(X_train, y_train):\n",
    "                # Process the forward pass. This goes through every layer.\n",
    "                x = x.reshape(21, 1)  # Create a matrix for dot product in forward()\n",
    "                y_hat = self.predict(x)  \n",
    "                \n",
    "                # Calculate the error after the forward pass. \n",
    "                loss = self.loss.calculate_loss(y, y_hat)\n",
    "                error = self.loss.derivative(y, y_hat)  # When using mse, the derivative is the error.\n",
    "                error_v += loss  # Add to the error visualisation.\n",
    "                \n",
    "                l0 = self.layers[0]\n",
    "                l1 = self.layers[1]\n",
    "                \n",
    "                # The output layer error.\n",
    "                delta_L = np.multiply(error, l1.activation.derivative(l1.outputs))\n",
    "                \n",
    "                \n",
    "                # part_1 = np.dot(delta_L.T, l1.weights)\n",
    "                # # print('part 1', part_1.shape)  # (1, 2)\n",
    "                \n",
    "                # part_2 = l0.activation.derivative(l0.outputs).T\n",
    "                # # print('part 2', part_2.shape)  # (1, m) -> (1, 2)\n",
    "                \n",
    "                # part_3 = np.dot(delta_L.T, l1.weights) * l0.activation.derivative(l0.outputs).T\n",
    "                # # print('part 3', part_3)  # (1, 2)\n",
    "                \n",
    "                # print('np dot', np.dot(x, np.ones((1, 2))))\n",
    "                # print('gradient', gradient_l0)\n",
    "                \n",
    "                pd_irt_weights = l0.outputs.T * delta_L\n",
    "                l1.weights -= learning_rate * pd_irt_weights\n",
    "                \n",
    "                gradient_l0 = np.dot(delta_L.T, l1.weights) * l0.activation.derivative(l0.outputs).T * np.dot(x, np.ones((1, len(l0.outputs))))\n",
    "                l0.weights -= learning_rate * gradient_l0.T         \n",
    "                \n",
    "                # The hidden layer error.\n",
    "            \n",
    "            error_v /= len(X)\n",
    "            error_viz.append(error_v)\n",
    "                \n",
    "                   \n",
    "    def predict(self, x):\n",
    "        outputs = x\n",
    "        for layer in self.layers:\n",
    "            outputs = layer.forward(outputs)\n",
    "        self.output = outputs\n",
    "        return outputs\n",
    "            "
   ]
  },
  {
   "cell_type": "markdown",
   "metadata": {},
   "source": [
    "For backpropagation, the formula for the very last layer is: \n",
    "![last-layer-backprop](https://miro.medium.com/max/828/1*zRDMl-GxVO7qENH5dNrZ-g.png)"
   ]
  },
  {
   "cell_type": "code",
   "execution_count": 8,
   "metadata": {},
   "outputs": [],
   "source": [
    "np.random.seed(12)  # To keep results consistent.\n",
    "\n",
    "number_inputs = X.shape[1]\n",
    "epochs = 100\n",
    "\n",
    "layers = [\n",
    "    Dense(number_inputs, 2, activation_function='relu', name='Layer 1'),\n",
    "    Dense(2, 1, activation_function='relu', name='Layer 2')\n",
    "]"
   ]
  },
  {
   "cell_type": "code",
   "execution_count": 9,
   "metadata": {},
   "outputs": [],
   "source": [
    "def print_layer_outputs(network):\n",
    "    for layer in network.layers:\n",
    "        print(layer.name, layer.outputs.shape, ':\\n', layer.outputs)"
   ]
  },
  {
   "cell_type": "code",
   "execution_count": 10,
   "metadata": {},
   "outputs": [],
   "source": [
    "network = Network(layers, loss_function='mse')\n",
    "network.train(X_train, y_train, number_epochs=epochs)\n",
    "# print_layer_outputs(network)"
   ]
  },
  {
   "cell_type": "code",
   "execution_count": 11,
   "metadata": {},
   "outputs": [
    {
     "data": {
      "image/png": "[encoded data removed]",
      "text/plain": [
       "<Figure size 640x480 with 1 Axes>"
      ]
     },
     "metadata": {},
     "output_type": "display_data"
    }
   ],
   "source": [
    "plt.plot(error_viz)\n",
    "plt.title(\"Training\")\n",
    "plt.xlabel(\"Epochs\")\n",
    "plt.ylabel(\"Loss\")\n",
    "plt.show()"
   ]
  },
  {
   "cell_type": "code",
   "execution_count": 12,
   "metadata": {},
   "outputs": [],
   "source": [
    "pred = []\n",
    "for i in X:\n",
    "    pred.append(network.predict(i.reshape(21, 1)))"
   ]
  },
  {
   "cell_type": "code",
   "execution_count": 13,
   "metadata": {},
   "outputs": [],
   "source": [
    "res = pd.DataFrame()\n",
    "res[\"predictions\"] = pred\n",
    "res[\"actual\"] = y"
   ]
  },
  {
   "cell_type": "code",
   "execution_count": 14,
   "metadata": {},
   "outputs": [],
   "source": [
    "res[\"predictions\"] = res[\"predictions\"].apply(lambda x: x[0][0])\n",
    "res[\"predictions\"] = res[\"predictions\"].apply(lambda x: 0 if x < 0.5 else 1)"
   ]
  },
  {
   "cell_type": "code",
   "execution_count": 15,
   "metadata": {},
   "outputs": [
    {
     "name": "stdout",
     "output_type": "stream",
     "text": [
      "Accuracy: 93.67311072056239\n"
     ]
    }
   ],
   "source": [
    "print(\"Accuracy:\", sum(x == y for x, y in zip(res['predictions'], res['actual'])) / len(X) * 100)"
   ]
  }
 ],
 "metadata": {
  "kernelspec": {
   "display_name": "Python 3",
   "language": "python",
   "name": "python3"
  },
  "language_info": {
   "codemirror_mode": {
    "name": "ipython",
    "version": 3
   },
   "file_extension": ".py",
   "mimetype": "text/x-python",
   "name": "python",
   "nbconvert_exporter": "python",
   "pygments_lexer": "ipython3",
   "version": "3.8.5"
  },
  "vscode": {
   "interpreter": {
    "hash": "d80a60b5cae90d0132c97af96d84f3faaaa5679a5193fa9421d1db0d11796e0e"
   }
  }
 },
 "nbformat": 4,
 "nbformat_minor": 2
}
