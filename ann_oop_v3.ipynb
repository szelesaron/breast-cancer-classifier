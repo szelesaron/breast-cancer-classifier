{
 "cells": [
  {
   "cell_type": "markdown",
   "metadata": {},
   "source": [
    "Okay, let's start over after we've understood some maths. "
   ]
  },
  {
   "cell_type": "code",
   "execution_count": 653,
   "metadata": {},
   "outputs": [],
   "source": [
    "# Imports:\n",
    "import numpy as np\n",
    "import matplotlib.pyplot as plt\n",
    "import pandas as pd\n",
    "\n",
    "# Data Setup:\n",
    "X = np.load('data/X-data.npy')\n",
    "y = np.load('data/y-data.npy')\n",
    "\n",
    "np.random.seed(0)"
   ]
  },
  {
   "cell_type": "code",
   "execution_count": 654,
   "metadata": {},
   "outputs": [],
   "source": [
    "# Abstract Class Definitions: \n",
    "class Layer():\n",
    "    def __init__(self): \n",
    "        self.inputs = None  # The inputs into this layer. \n",
    "        self.outputs = None # The ouputs of this layer. \n",
    "        \n",
    "    # Forward propagation method.\n",
    "    def forward(self, inputs):\n",
    "        pass\n",
    "    \n",
    "    # Backward propagation method.\n",
    "    def backward(self):\n",
    "        pass\n",
    "    \n",
    "class Activation():\n",
    "    def activate():\n",
    "        pass\n",
    "    \n",
    "    def prime():\n",
    "        pass\n",
    "    \n",
    "class Loss():\n",
    "    def calculate_loss():\n",
    "        pass"
   ]
  },
  {
   "cell_type": "code",
   "execution_count": 655,
   "metadata": {},
   "outputs": [],
   "source": [
    "class ReLU(Activation):\n",
    "    def activate(self, x): \n",
    "        return np.maximum(x, 0.0)\n",
    "    \n",
    "    def derivative(self, x):\n",
    "        return (x > 0) * 1  # * 1 to return a number.\n",
    "    \n",
    "class Sigmoid(Activation):\n",
    "    def activate(self, x):\n",
    "        return 1 / (1 + np.exp(-x))\n",
    "    \n",
    "    def derivative(self, x):\n",
    "        s = self.activate(x)\n",
    "        return s * (1 - s)"
   ]
  },
  {
   "cell_type": "code",
   "execution_count": 656,
   "metadata": {},
   "outputs": [],
   "source": [
    "class CrossEntropyLoss():\n",
    "    def calculate_loss(self, y_true, y_pred):\n",
    "        return np.mean(-y_true * np.log(y_pred) - (1 - y_true) * np.log(1 - y_pred))\n",
    "    \n",
    "    def derivative(self, y_true, y_pred): \n",
    "        r = ((1 - y_true) / (1 - y_pred) - y_true / y_pred) / np.size(y_true)\n",
    "        return r"
   ]
  },
  {
   "cell_type": "code",
   "execution_count": 657,
   "metadata": {},
   "outputs": [],
   "source": [
    "# Dense (fully connected) Layer Class:\n",
    "class Dense(Layer): \n",
    "    def __init__(self, input_size, output_size, activation_function='relu', name='unnamed'):\n",
    "        self.name = name\n",
    "        self.weights = np.random.randn(output_size, input_size)\n",
    "        self.biases = np.zeros((output_size, 1))\n",
    "        self.outputs = None\n",
    "        \n",
    "        if activation_function == 'relu':\n",
    "            self.activation = ReLU()\n",
    "        elif activation_function == 'sigmoid':\n",
    "            self.activation = Sigmoid()\n",
    "        else:\n",
    "            self.activation = ReLU()  # Default to ReLU activation function.\n",
    "        \n",
    "    def print_weights(self):\n",
    "        print('Weights:\\n', pd.DataFrame(self.weights))\n",
    "        \n",
    "    def print_biases(self):\n",
    "        print('Biases:\\n', pd.DataFrame(self.biases))\n",
    "    \n",
    "    def forward(self, inputs):\n",
    "        self.inputs = inputs\n",
    "        self.outputs = self.activation.activate(np.dot(self.weights, inputs) + self.biases)\n",
    "        return self.outputs\n",
    "    \n",
    "    def backward(self, gradient_vector, learning_rate):\n",
    "        # We can skip updating self.outputs because they will be changed in the next iteration.\n",
    "        print('weights', self.weights.shape)\n",
    "        print('biases', self.biases.shape)\n",
    "        print('gradient vec', gradient_vector.shape)\n",
    "        print('inputs', self.inputs.shape)\n",
    "        self.weights -= learning_rate * np.dot(gradient_vector, self.inputs.T)\n",
    "        self.biases -= learning_rate * gradient_vector\n",
    "        return np.dot(self.weights.T, gradient_vector)"
   ]
  },
  {
   "cell_type": "code",
   "execution_count": 658,
   "metadata": {},
   "outputs": [],
   "source": [
    "class Network:\n",
    "    def __init__(self, layers, loss_function='cross_entropy'):\n",
    "        self.layers = layers\n",
    "        self.output = None\n",
    "        \n",
    "        if loss_function == 'cross_entropy':\n",
    "            self.loss = CrossEntropyLoss()\n",
    "        else:\n",
    "            self.loss = CrossEntropyLoss()  # Default to cross entropy loss. \n",
    "    \n",
    "    def train(self, X_train, y_train, number_epochs, learning_rate=0.1):\n",
    "        for epoch in range(number_epochs):\n",
    "            error = 0\n",
    "            \n",
    "            for x, y in zip(X_train, y_train):\n",
    "                # Process the forward pass. This goes through every layer.\n",
    "                self.predict(x)\n",
    "                \n",
    "                # Calculate the error after the forward pass. \n",
    "                error += self.loss.calculate_loss(y, self.output)\n",
    "\n",
    "                # Calculate the derivative of the loss in respect to the output.\n",
    "                dL_dA = self.loss.derivative(y, self.output)  # (1, 1)\n",
    "                # Shape is the number of neurons of the last layer x 1. \n",
    "                \n",
    "                # Calculate the derivative of the activation function in respect to the weighted sum\n",
    "                dA_dZ = self.layers[1].activation.derivative(self.layers[1].outputs)  # (1, 1)\n",
    "                \n",
    "                # The derivative of the weighted sum in respect to the weights\n",
    "                dZ_dW = self.layers[1].inputs  # (2, 1)\n",
    "                \n",
    "                # The derivative of the loss in respect to the weights, transpose to fit the weights\n",
    "                dL_dW_L1 = np.multiply(np.multiply(dL_dA, dA_dZ), dZ_dW).T  # (1, 2) or (outputs, inputs)\n",
    "                \n",
    "                # Update the weights\n",
    "                new_weights = self.layers[1].weights - learning_rate * dL_dW_L1\n",
    "                \n",
    "                # For the first layer                \n",
    "                # Calculate the derivative of the activation function in respect to the weighted sum\n",
    "                delta_L1 = np.multiply(dL_dA, dA_dZ).T\n",
    "                print('delta_l1', delta_L1, delta_L1.shape)\n",
    "                weights_L1 = self.layers[1].weights\n",
    "                print('weights_l1', weights_L1, weights_L1.shape)\n",
    "                \n",
    "                step_1 = np.dot(delta_L1, weights_L1)\n",
    "                print('step 1:', step_1, step_1.shape)\n",
    "                \n",
    "                dA_dZ_L0 = self.layers[0].activation.derivative(self.layers[0].outputs)  # (2, 1)\n",
    "                dA_dZ_L0 = dA_dZ_L0.T  # (1, 2)\n",
    "                print('da_dz_L0', dA_dZ_L0, dA_dZ_L0.shape) \n",
    "                \n",
    "                step_2 = np.multiply(step_1, dA_dZ_L0)  # (1, 2)\n",
    "                print('step 2:', step_2, step_2.shape) \n",
    "                \n",
    "                inputs_L0 = self.layers[0].inputs\n",
    "                print('inputs', inputs_L0.shape, inputs_L0.shape)\n",
    "                \n",
    "                weights_L0 = self.layers[0].weights\n",
    "                print('weights', weights_L0, weights_L0.shape)\n",
    "    \n",
    "    def predict(self, x):\n",
    "        outputs = x.reshape(21, 1)  # Create a matrix for dot product in forward()\n",
    "        for layer in self.layers:\n",
    "            outputs = layer.forward(outputs)\n",
    "        self.output = outputs\n",
    "            "
   ]
  },
  {
   "cell_type": "markdown",
   "metadata": {},
   "source": [
    "For backpropagation, the formula for the very last layer is: \n",
    "![last-layer-backprop](https://miro.medium.com/max/828/1*zRDMl-GxVO7qENH5dNrZ-g.png)"
   ]
  },
  {
   "cell_type": "code",
   "execution_count": 659,
   "metadata": {},
   "outputs": [],
   "source": [
    "np.random.seed(42)  # To keep results consistent.\n",
    "\n",
    "number_inputs = X.shape[1]\n",
    "epochs = 1\n",
    "\n",
    "layers = [\n",
    "    Dense(number_inputs, 2, activation_function='relu', name='Layer 1'),\n",
    "    Dense(2, 1, activation_function='sigmoid', name='Layer 2')\n",
    "]"
   ]
  },
  {
   "cell_type": "code",
   "execution_count": 660,
   "metadata": {},
   "outputs": [],
   "source": [
    "def print_layer_outputs(network):\n",
    "    for layer in network.layers:\n",
    "        print(layer.name, layer.outputs.shape, ':\\n', layer.outputs)"
   ]
  },
  {
   "cell_type": "code",
   "execution_count": 661,
   "metadata": {},
   "outputs": [
    {
     "data": {
      "text/plain": [
       "(2, 21)"
      ]
     },
     "execution_count": 661,
     "metadata": {},
     "output_type": "execute_result"
    }
   ],
   "source": [
    "X_practice = X[0:2]\n",
    "X_practice.shape"
   ]
  },
  {
   "cell_type": "code",
   "execution_count": 662,
   "metadata": {},
   "outputs": [
    {
     "name": "stdout",
     "output_type": "stream",
     "text": [
      "delta_l1 [[0.46858183]] (1, 1)\n",
      "weights_l1 [[ 0.49671415 -0.1382643   0.64768854  1.52302986 -0.23415337 -0.23413696\n",
      "   1.57921282  0.76743473 -0.46947439  0.54256004 -0.46341769 -0.46572975\n",
      "   0.24196227 -1.91328024 -1.72491783 -0.56228753 -1.01283112  0.31424733\n",
      "  -0.90802408 -1.4123037   1.46564877]\n",
      " [-0.2257763   0.0675282  -1.42474819 -0.54438272  0.11092259 -1.15099358\n",
      "   0.37569802 -0.60063869 -0.29169375 -0.60170661  1.85227818 -0.01349722\n",
      "  -1.05771093  0.82254491 -1.22084365  0.2088636  -1.95967012 -1.32818605\n",
      "   0.19686124  0.73846658  0.17136828]] (2, 21)\n"
     ]
    },
    {
     "ename": "ValueError",
     "evalue": "shapes (1,1) and (2,21) not aligned: 1 (dim 1) != 2 (dim 0)",
     "output_type": "error",
     "traceback": [
      "\u001b[1;31m---------------------------------------------------------------------------\u001b[0m",
      "\u001b[1;31mValueError\u001b[0m                                Traceback (most recent call last)",
      "\u001b[1;32mc:\\Users\\Laura\\OneDrive - Heriot-Watt University\\semester-seven\\bic\\breast-cancer-classifier\\ann_oop_v3.ipynb Cell 12\u001b[0m in \u001b[0;36m<cell line: 2>\u001b[1;34m()\u001b[0m\n\u001b[0;32m      <a href='vscode-notebook-cell:/c%3A/Users/Laura/OneDrive%20-%20Heriot-Watt%20University/semester-seven/bic/breast-cancer-classifier/ann_oop_v3.ipynb#X11sZmlsZQ%3D%3D?line=0'>1</a>\u001b[0m network \u001b[39m=\u001b[39m Network(layers)\n\u001b[1;32m----> <a href='vscode-notebook-cell:/c%3A/Users/Laura/OneDrive%20-%20Heriot-Watt%20University/semester-seven/bic/breast-cancer-classifier/ann_oop_v3.ipynb#X11sZmlsZQ%3D%3D?line=1'>2</a>\u001b[0m network\u001b[39m.\u001b[39;49mtrain(X_practice, y, number_epochs\u001b[39m=\u001b[39;49mepochs)\n",
      "\u001b[1;32mc:\\Users\\Laura\\OneDrive - Heriot-Watt University\\semester-seven\\bic\\breast-cancer-classifier\\ann_oop_v3.ipynb Cell 12\u001b[0m in \u001b[0;36mNetwork.train\u001b[1;34m(self, X_train, y_train, number_epochs, learning_rate)\u001b[0m\n\u001b[0;32m     <a href='vscode-notebook-cell:/c%3A/Users/Laura/OneDrive%20-%20Heriot-Watt%20University/semester-seven/bic/breast-cancer-classifier/ann_oop_v3.ipynb#X11sZmlsZQ%3D%3D?line=41'>42</a>\u001b[0m weights_L1 \u001b[39m=\u001b[39m \u001b[39mself\u001b[39m\u001b[39m.\u001b[39mlayers[\u001b[39m0\u001b[39m]\u001b[39m.\u001b[39mweights\n\u001b[0;32m     <a href='vscode-notebook-cell:/c%3A/Users/Laura/OneDrive%20-%20Heriot-Watt%20University/semester-seven/bic/breast-cancer-classifier/ann_oop_v3.ipynb#X11sZmlsZQ%3D%3D?line=42'>43</a>\u001b[0m \u001b[39mprint\u001b[39m(\u001b[39m'\u001b[39m\u001b[39mweights_l1\u001b[39m\u001b[39m'\u001b[39m, weights_L1, weights_L1\u001b[39m.\u001b[39mshape)\n\u001b[1;32m---> <a href='vscode-notebook-cell:/c%3A/Users/Laura/OneDrive%20-%20Heriot-Watt%20University/semester-seven/bic/breast-cancer-classifier/ann_oop_v3.ipynb#X11sZmlsZQ%3D%3D?line=44'>45</a>\u001b[0m step_1 \u001b[39m=\u001b[39m np\u001b[39m.\u001b[39;49mdot(delta_L1, weights_L1)\n\u001b[0;32m     <a href='vscode-notebook-cell:/c%3A/Users/Laura/OneDrive%20-%20Heriot-Watt%20University/semester-seven/bic/breast-cancer-classifier/ann_oop_v3.ipynb#X11sZmlsZQ%3D%3D?line=45'>46</a>\u001b[0m \u001b[39mprint\u001b[39m(\u001b[39m'\u001b[39m\u001b[39mstep 1:\u001b[39m\u001b[39m'\u001b[39m, step_1, step_1\u001b[39m.\u001b[39mshape)\n\u001b[0;32m     <a href='vscode-notebook-cell:/c%3A/Users/Laura/OneDrive%20-%20Heriot-Watt%20University/semester-seven/bic/breast-cancer-classifier/ann_oop_v3.ipynb#X11sZmlsZQ%3D%3D?line=47'>48</a>\u001b[0m dA_dZ_L0 \u001b[39m=\u001b[39m \u001b[39mself\u001b[39m\u001b[39m.\u001b[39mlayers[\u001b[39m0\u001b[39m]\u001b[39m.\u001b[39mactivation\u001b[39m.\u001b[39mderivative(\u001b[39mself\u001b[39m\u001b[39m.\u001b[39mlayers[\u001b[39m0\u001b[39m]\u001b[39m.\u001b[39moutputs)  \u001b[39m# (2, 1)\u001b[39;00m\n",
      "File \u001b[1;32m<__array_function__ internals>:180\u001b[0m, in \u001b[0;36mdot\u001b[1;34m(*args, **kwargs)\u001b[0m\n",
      "\u001b[1;31mValueError\u001b[0m: shapes (1,1) and (2,21) not aligned: 1 (dim 1) != 2 (dim 0)"
     ]
    }
   ],
   "source": [
    "network = Network(layers)\n",
    "network.train(X_practice, y, number_epochs=epochs)\n",
    "#print_layer_outputs(network)"
   ]
  }
 ],
 "metadata": {
  "kernelspec": {
   "display_name": "Python 3.9.13 ('F21DL')",
   "language": "python",
   "name": "python3"
  },
  "language_info": {
   "codemirror_mode": {
    "name": "ipython",
    "version": 3
   },
   "file_extension": ".py",
   "mimetype": "text/x-python",
   "name": "python",
   "nbconvert_exporter": "python",
   "pygments_lexer": "ipython3",
   "version": "3.9.13"
  },
  "orig_nbformat": 4,
  "vscode": {
   "interpreter": {
    "hash": "d80a60b5cae90d0132c97af96d84f3faaaa5679a5193fa9421d1db0d11796e0e"
   }
  }
 },
 "nbformat": 4,
 "nbformat_minor": 2
}
