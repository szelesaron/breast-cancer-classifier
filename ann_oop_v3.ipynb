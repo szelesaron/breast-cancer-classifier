{
 "cells": [
  {
   "cell_type": "markdown",
   "metadata": {},
   "source": [
    "Okay, let's start over after we've understood some maths. "
   ]
  },
  {
   "cell_type": "code",
   "execution_count": 523,
   "metadata": {},
   "outputs": [],
   "source": [
    "# Imports:\n",
    "import numpy as np\n",
    "import matplotlib.pyplot as plt\n",
    "import pandas as pd\n",
    "\n",
    "# Data Setup:\n",
    "X = np.load('data/X-data.npy')\n",
    "y = np.load('data/y-data.npy')\n",
    "\n",
    "np.random.seed(0)"
   ]
  },
  {
   "cell_type": "code",
   "execution_count": 524,
   "metadata": {},
   "outputs": [],
   "source": [
    "# Abstract Class Definitions: \n",
    "class Layer():\n",
    "    def __init__(self): \n",
    "        self.inputs = None  # The inputs into this layer. \n",
    "        self.outputs = None # The ouputs of this layer. \n",
    "        \n",
    "    # Forward propagation method.\n",
    "    def forward(self, inputs):\n",
    "        pass\n",
    "    \n",
    "    # Backward propagation method.\n",
    "    def backward(self):\n",
    "        pass\n",
    "    \n",
    "class Activation():\n",
    "    def activate():\n",
    "        pass\n",
    "    \n",
    "    def prime():\n",
    "        pass\n",
    "    \n",
    "class Loss():\n",
    "    def calculate_loss():\n",
    "        pass"
   ]
  },
  {
   "cell_type": "code",
   "execution_count": 525,
   "metadata": {},
   "outputs": [],
   "source": [
    "class ReLU(Activation):\n",
    "    def activate(self, x): \n",
    "        return np.maximum(x, 0.0)\n",
    "    \n",
    "class Sigmoid(Activation):\n",
    "    def activate(self, x):\n",
    "        return 1 / (1 + np.exp(-x))"
   ]
  },
  {
   "cell_type": "code",
   "execution_count": 526,
   "metadata": {},
   "outputs": [],
   "source": [
    "class CrossEntropyLoss():\n",
    "    def calculate_loss(self, y_true, y_pred):\n",
    "        return np.mean(-y_true * np.log(y_pred) - (1 - y_true) * np.log(1 - y_pred))\n",
    "    \n",
    "    def gradient(self, y_true, y_pred): \n",
    "        r = ((1 - y_true) / (1 - y_pred) - y_true / y_pred) / np.size(y_true)\n",
    "        return r"
   ]
  },
  {
   "cell_type": "code",
   "execution_count": 527,
   "metadata": {},
   "outputs": [],
   "source": [
    "# Dense (fully connected) Layer Class:\n",
    "class Dense(Layer): \n",
    "    def __init__(self, input_size, output_size, activation_function='relu'):\n",
    "        self.weights = np.random.randn(output_size, input_size)\n",
    "        self.biases = np.zeros(output_size)\n",
    "        self.outputs = None\n",
    "        \n",
    "        if activation_function == 'relu':\n",
    "            self.activation = ReLU()\n",
    "        elif activation_function == 'sigmoid':\n",
    "            self.activation = Sigmoid()\n",
    "        else:\n",
    "            self.activation = ReLU()  # Default to ReLU activation function.\n",
    "        \n",
    "    def print_weights(self):\n",
    "        print('Weights:\\n', pd.DataFrame(self.weights))\n",
    "        \n",
    "    def print_biases(self):\n",
    "        print('Biases:\\n', pd.DataFrame(self.biases))\n",
    "    \n",
    "    def forward(self, inputs):\n",
    "        self.outputs = self.activation.activate(np.dot(self.weights, inputs) + self.biases)\n",
    "        return self.outputs\n",
    "    \n",
    "    def backward(self, gradient_vector, x, learning_rate):\n",
    "        # We can skip updating self.outputs because they will be changed in the next iteration.\n",
    "        self.weights -= learning_rate * np.dot(gradient_vector, x.T)\n",
    "        self.biases -= learning_rate * gradient_vector\n",
    "        return np.dot(self.weights.T, gradient_vector)"
   ]
  },
  {
   "cell_type": "code",
   "execution_count": 528,
   "metadata": {},
   "outputs": [],
   "source": [
    "class Network:\n",
    "    def __init__(self, layers, loss_function='cross_entropy'):\n",
    "        self.layers = layers\n",
    "        self.output = None\n",
    "        \n",
    "        if loss_function == 'cross_entropy':\n",
    "            self.loss = CrossEntropyLoss()\n",
    "        else:\n",
    "            self.loss = CrossEntropyLoss()  # Default to cross entropy loss. \n",
    "    \n",
    "    def train(self, X_train, y_train, number_epochs, learning_rate=0.01):\n",
    "        for epoch in range(number_epochs):\n",
    "            error = 0\n",
    "            \n",
    "            for x, y in zip(X_train, y_train):\n",
    "                # Process the forward pass.\n",
    "                self.predict(x)\n",
    "                \n",
    "                # Calculate the error after this forward pass. \n",
    "                error += self.loss.calculate_loss(y, self.output)\n",
    "                \n",
    "                # Calculate the derivative of the loss in respect to the output for each output.\n",
    "                gradient_vector = self.loss.gradient(y, self.output)  # Shape is 569 x 1\n",
    "                \n",
    "                # Now perform backpropagation.\n",
    "                for layer in reversed(self.layers):\n",
    "                    gradient_vector = layer.backward(gradient_vector, x.reshape(len(x), 1), learning_rate)\n",
    "    \n",
    "    def predict(self, x):\n",
    "        outputs = x\n",
    "        for layer in self.layers:\n",
    "            outputs = layer.forward(outputs)\n",
    "        self.output = outputs\n",
    "            "
   ]
  },
  {
   "cell_type": "code",
   "execution_count": 529,
   "metadata": {},
   "outputs": [
    {
     "data": {
      "text/plain": [
       "array([ 0.32418208, -3.24279964, -1.9316259 , -0.77079184, -1.35954831,\n",
       "        3.30868468, -2.74028547,  1.73267878, -1.53916903,  2.18857362])"
      ]
     },
     "execution_count": 529,
     "metadata": {},
     "output_type": "execute_result"
    }
   ],
   "source": [
    "np.random.seed(42)  # To keep results consistent.\n",
    "\n",
    "number_inputs = X.shape[1]\n",
    "epochs = 1\n",
    "\n",
    "layers = [\n",
    "    Dense(number_inputs, 10, activation_function='sigmoid'),\n",
    "    Dense(10, 10, activation_function='relu'),\n",
    "    Dense(10, 1, activation_function='sigmoid')\n",
    "]\n",
    "layers[0].biases + np.dot(layers[0].weights, X[1])"
   ]
  },
  {
   "cell_type": "code",
   "execution_count": 530,
   "metadata": {},
   "outputs": [
    {
     "ename": "ValueError",
     "evalue": "shapes (1,) and (10,) not aligned: 1 (dim 0) != 10 (dim 0)",
     "output_type": "error",
     "traceback": [
      "\u001b[1;31m---------------------------------------------------------------------------\u001b[0m",
      "\u001b[1;31mValueError\u001b[0m                                Traceback (most recent call last)",
      "\u001b[1;32mc:\\Users\\Laura\\OneDrive - Heriot-Watt University\\semester-seven\\bic\\breast-cancer-classifier\\ann_oop_v3.ipynb Cell 9\u001b[0m in \u001b[0;36m<cell line: 2>\u001b[1;34m()\u001b[0m\n\u001b[0;32m      <a href='vscode-notebook-cell:/c%3A/Users/Laura/OneDrive%20-%20Heriot-Watt%20University/semester-seven/bic/breast-cancer-classifier/ann_oop_v3.ipynb#X10sZmlsZQ%3D%3D?line=0'>1</a>\u001b[0m network \u001b[39m=\u001b[39m Network(layers)\n\u001b[1;32m----> <a href='vscode-notebook-cell:/c%3A/Users/Laura/OneDrive%20-%20Heriot-Watt%20University/semester-seven/bic/breast-cancer-classifier/ann_oop_v3.ipynb#X10sZmlsZQ%3D%3D?line=1'>2</a>\u001b[0m network\u001b[39m.\u001b[39;49mtrain(X, y, number_epochs\u001b[39m=\u001b[39;49mepochs)\n\u001b[0;32m      <a href='vscode-notebook-cell:/c%3A/Users/Laura/OneDrive%20-%20Heriot-Watt%20University/semester-seven/bic/breast-cancer-classifier/ann_oop_v3.ipynb#X10sZmlsZQ%3D%3D?line=2'>3</a>\u001b[0m network\u001b[39m.\u001b[39moutput\n",
      "\u001b[1;32mc:\\Users\\Laura\\OneDrive - Heriot-Watt University\\semester-seven\\bic\\breast-cancer-classifier\\ann_oop_v3.ipynb Cell 9\u001b[0m in \u001b[0;36mNetwork.train\u001b[1;34m(self, X_train, y_train, number_epochs, learning_rate)\u001b[0m\n\u001b[0;32m     <a href='vscode-notebook-cell:/c%3A/Users/Laura/OneDrive%20-%20Heriot-Watt%20University/semester-seven/bic/breast-cancer-classifier/ann_oop_v3.ipynb#X10sZmlsZQ%3D%3D?line=24'>25</a>\u001b[0m \u001b[39m# Now perform backpropagation.\u001b[39;00m\n\u001b[0;32m     <a href='vscode-notebook-cell:/c%3A/Users/Laura/OneDrive%20-%20Heriot-Watt%20University/semester-seven/bic/breast-cancer-classifier/ann_oop_v3.ipynb#X10sZmlsZQ%3D%3D?line=25'>26</a>\u001b[0m \u001b[39mfor\u001b[39;00m layer \u001b[39min\u001b[39;00m \u001b[39mreversed\u001b[39m(\u001b[39mself\u001b[39m\u001b[39m.\u001b[39mlayers):\n\u001b[1;32m---> <a href='vscode-notebook-cell:/c%3A/Users/Laura/OneDrive%20-%20Heriot-Watt%20University/semester-seven/bic/breast-cancer-classifier/ann_oop_v3.ipynb#X10sZmlsZQ%3D%3D?line=26'>27</a>\u001b[0m     gradient_vector \u001b[39m=\u001b[39m layer\u001b[39m.\u001b[39;49mbackward(gradient_vector, x\u001b[39m.\u001b[39;49mreshape(\u001b[39mlen\u001b[39;49m(x), \u001b[39m1\u001b[39;49m), learning_rate)\n",
      "\u001b[1;32mc:\\Users\\Laura\\OneDrive - Heriot-Watt University\\semester-seven\\bic\\breast-cancer-classifier\\ann_oop_v3.ipynb Cell 9\u001b[0m in \u001b[0;36mDense.backward\u001b[1;34m(self, gradient_vector, x, learning_rate)\u001b[0m\n\u001b[0;32m     <a href='vscode-notebook-cell:/c%3A/Users/Laura/OneDrive%20-%20Heriot-Watt%20University/semester-seven/bic/breast-cancer-classifier/ann_oop_v3.ipynb#X10sZmlsZQ%3D%3D?line=25'>26</a>\u001b[0m \u001b[39mdef\u001b[39;00m \u001b[39mbackward\u001b[39m(\u001b[39mself\u001b[39m, gradient_vector, x, learning_rate):\n\u001b[0;32m     <a href='vscode-notebook-cell:/c%3A/Users/Laura/OneDrive%20-%20Heriot-Watt%20University/semester-seven/bic/breast-cancer-classifier/ann_oop_v3.ipynb#X10sZmlsZQ%3D%3D?line=26'>27</a>\u001b[0m     \u001b[39m# We can skip updating self.outputs because they will be changed in the next iteration.\u001b[39;00m\n\u001b[1;32m---> <a href='vscode-notebook-cell:/c%3A/Users/Laura/OneDrive%20-%20Heriot-Watt%20University/semester-seven/bic/breast-cancer-classifier/ann_oop_v3.ipynb#X10sZmlsZQ%3D%3D?line=27'>28</a>\u001b[0m     \u001b[39mself\u001b[39m\u001b[39m.\u001b[39mweights \u001b[39m-\u001b[39m\u001b[39m=\u001b[39m learning_rate \u001b[39m*\u001b[39m np\u001b[39m.\u001b[39;49mdot(gradient_vector, \u001b[39mself\u001b[39;49m\u001b[39m.\u001b[39;49minputs\u001b[39m.\u001b[39;49mT)\n\u001b[0;32m     <a href='vscode-notebook-cell:/c%3A/Users/Laura/OneDrive%20-%20Heriot-Watt%20University/semester-seven/bic/breast-cancer-classifier/ann_oop_v3.ipynb#X10sZmlsZQ%3D%3D?line=28'>29</a>\u001b[0m     \u001b[39mself\u001b[39m\u001b[39m.\u001b[39mbiases \u001b[39m-\u001b[39m\u001b[39m=\u001b[39m learning_rate \u001b[39m*\u001b[39m gradient_vector\n\u001b[0;32m     <a href='vscode-notebook-cell:/c%3A/Users/Laura/OneDrive%20-%20Heriot-Watt%20University/semester-seven/bic/breast-cancer-classifier/ann_oop_v3.ipynb#X10sZmlsZQ%3D%3D?line=29'>30</a>\u001b[0m     \u001b[39mreturn\u001b[39;00m np\u001b[39m.\u001b[39mdot(\u001b[39mself\u001b[39m\u001b[39m.\u001b[39mweights\u001b[39m.\u001b[39mT, gradient_vector)\n",
      "File \u001b[1;32m<__array_function__ internals>:180\u001b[0m, in \u001b[0;36mdot\u001b[1;34m(*args, **kwargs)\u001b[0m\n",
      "\u001b[1;31mValueError\u001b[0m: shapes (1,) and (10,) not aligned: 1 (dim 0) != 10 (dim 0)"
     ]
    }
   ],
   "source": [
    "network = Network(layers)\n",
    "network.train(X, y, number_epochs=epochs)\n",
    "network.output"
   ]
  }
 ],
 "metadata": {
  "kernelspec": {
   "display_name": "Python 3.9.13 ('F21DL')",
   "language": "python",
   "name": "python3"
  },
  "language_info": {
   "codemirror_mode": {
    "name": "ipython",
    "version": 3
   },
   "file_extension": ".py",
   "mimetype": "text/x-python",
   "name": "python",
   "nbconvert_exporter": "python",
   "pygments_lexer": "ipython3",
   "version": "3.9.13"
  },
  "orig_nbformat": 4,
  "vscode": {
   "interpreter": {
    "hash": "d80a60b5cae90d0132c97af96d84f3faaaa5679a5193fa9421d1db0d11796e0e"
   }
  }
 },
 "nbformat": 4,
 "nbformat_minor": 2
}
