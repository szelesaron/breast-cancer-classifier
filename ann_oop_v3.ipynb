{
 "cells": [
  {
   "cell_type": "markdown",
   "metadata": {},
   "source": [
    "Okay, let's start over after we've understood some maths. "
   ]
  },
  {
   "cell_type": "code",
   "execution_count": 128,
   "metadata": {},
   "outputs": [],
   "source": [
    "# Imports:\n",
    "import numpy as np\n",
    "import matplotlib.pyplot as plt\n",
    "import pandas as pd\n",
    "\n",
    "# Data Setup:\n",
    "X = np.load('data/X-data.npy')\n",
    "y = np.load('data/y-data.npy')\n",
    "\n",
    "np.random.seed(0)"
   ]
  },
  {
   "cell_type": "code",
   "execution_count": 129,
   "metadata": {},
   "outputs": [],
   "source": [
    "# Abstract Class Definitions: \n",
    "class Layer():\n",
    "    def __init__(self): \n",
    "        self.inputs = None  # The inputs into this layer. \n",
    "        self.outputs = None # The ouputs of this layer. \n",
    "        \n",
    "    # Forward propagation method.\n",
    "    def forward(self, inputs):\n",
    "        pass\n",
    "    \n",
    "    # Backward propagation method.\n",
    "    def backward(self):\n",
    "        pass\n",
    "    \n",
    "class Activation():\n",
    "    def activate():\n",
    "        pass\n",
    "    \n",
    "    def prime():\n",
    "        pass\n",
    "    \n",
    "class Loss():\n",
    "    def calculate_loss():\n",
    "        pass"
   ]
  },
  {
   "cell_type": "code",
   "execution_count": 140,
   "metadata": {},
   "outputs": [],
   "source": [
    "class ReLU(Activation):\n",
    "    def activate(self, x): \n",
    "        return np.maximum(x, 0.0)\n",
    "    \n",
    "    def derivative(self, x):\n",
    "        return (x > 0) * 1  # * 1 to return a number.\n",
    "    \n",
    "class Sigmoid(Activation):\n",
    "    def activate(self, x):\n",
    "        return 1 / (1 + np.exp(-x))\n",
    "    \n",
    "    def derivative(self, x):\n",
    "        s = self.activate(x)\n",
    "        return s * (1 - s)"
   ]
  },
  {
   "cell_type": "code",
   "execution_count": 141,
   "metadata": {},
   "outputs": [],
   "source": [
    "class CrossEntropyLoss():\n",
    "    def calculate_loss(self, y_true, y_pred):\n",
    "        return np.mean(-y_true * np.log(y_pred) - (1 - y_true) * np.log(1 - y_pred))\n",
    "    \n",
    "    def derivative(self, y_true, y_pred): \n",
    "        r = ((1 - y_true) / (1 - y_pred) - y_true / y_pred) / np.size(y_true)\n",
    "        return r"
   ]
  },
  {
   "cell_type": "code",
   "execution_count": 142,
   "metadata": {},
   "outputs": [],
   "source": [
    "# Dense (fully connected) Layer Class:\n",
    "class Dense(Layer): \n",
    "    def __init__(self, input_size, output_size, activation_function='relu', name='unnamed'):\n",
    "        self.name = name\n",
    "        self.weights = np.random.randn(output_size, input_size)\n",
    "        self.biases = np.zeros((output_size, 1))\n",
    "        self.outputs = None\n",
    "        \n",
    "        if activation_function == 'relu':\n",
    "            self.activation = ReLU()\n",
    "        elif activation_function == 'sigmoid':\n",
    "            self.activation = Sigmoid()\n",
    "        else:\n",
    "            self.activation = ReLU()  # Default to ReLU activation function.\n",
    "        \n",
    "    def print_weights(self):\n",
    "        print('Weights:\\n', pd.DataFrame(self.weights))\n",
    "        \n",
    "    def print_biases(self):\n",
    "        print('Biases:\\n', pd.DataFrame(self.biases))\n",
    "    \n",
    "    def forward(self, inputs):\n",
    "        self.inputs = inputs\n",
    "        self.outputs = self.activation.activate(np.dot(self.weights, inputs) + self.biases)\n",
    "        return self.outputs\n",
    "    \n",
    "    def backward(self, gradient_vector, learning_rate):\n",
    "        # We can skip updating self.outputs because they will be changed in the next iteration.\n",
    "        print('weights', self.weights.shape)\n",
    "        print('biases', self.biases.shape)\n",
    "        print('gradient vec', gradient_vector.shape)\n",
    "        print('inputs', self.inputs.shape)\n",
    "        self.weights -= learning_rate * np.dot(gradient_vector, self.inputs.T)\n",
    "        self.biases -= learning_rate * gradient_vector\n",
    "        return np.dot(self.weights.T, gradient_vector)"
   ]
  },
  {
   "cell_type": "code",
   "execution_count": 192,
   "metadata": {},
   "outputs": [],
   "source": [
    "class Network:\n",
    "    def __init__(self, layers, loss_function='cross_entropy'):\n",
    "        self.layers = layers\n",
    "        self.output = None\n",
    "        \n",
    "        if loss_function == 'cross_entropy':\n",
    "            self.loss = CrossEntropyLoss()\n",
    "        else:\n",
    "            self.loss = CrossEntropyLoss()  # Default to cross entropy loss. \n",
    "    \n",
    "    def train(self, X_train, y_train, number_epochs, learning_rate=0.1):\n",
    "        for epoch in range(number_epochs):\n",
    "            error = 0\n",
    "            \n",
    "            for x, y in zip(X_train, y_train):\n",
    "                # Process the forward pass. This goes through every layer.\n",
    "                self.predict(x)\n",
    "                \n",
    "                # Calculate the error after the forward pass. \n",
    "                error += self.loss.calculate_loss(y, self.output)\n",
    "                \n",
    "                # Calculate the derivative of the loss in respect to the output.\n",
    "                dL_dA = self.loss.derivative(y, self.output)  \n",
    "                print('dl_da', dL_dA)\n",
    "                # Shape is the number of neurons of the last layer x 1. \n",
    "                \n",
    "                # Calculate the derivative of the activation function in respect to the weighted sum\n",
    "                dA_dZ = self.layers[1].activation.derivative(self.layers[1].outputs)\n",
    "                print('da dz', dA_dZ)\n",
    "                \n",
    "                # The derivative of the weighted sum in respect to the weights\n",
    "                dZ_dW = self.layers[1].inputs\n",
    "                print('dz dw', dZ_dW[0])\n",
    "                \n",
    "                # The derivative of the loss in respect to the weights\n",
    "                dL_dW_L1 = np.multiply(np.multiply(dL_dA, dA_dZ), dZ_dW[0])\n",
    "                \n",
    "                print('dl dw', dL_dW_L1)\n",
    "                \n",
    "                # Update the weights\n",
    "                self.layers[1].weights = self.layers[1].weights - learning_rate * dL_dW_L1\n",
    "                \n",
    "                # For the first layer                \n",
    "                # Calculate the derivative of the activation function in respect to the weighted sum\n",
    "                delta_L1 = np.multiply(dL_dA, dA_dZ).T\n",
    "                print('delta_L1 shape', delta_L1.shape)\n",
    "                weights_L1 = self.layers[1].inputs\n",
    "                inputs_L1 = self.layers[0].inputs\n",
    "                dA_dZ_L0 = self.layers[0].activation.derivative(self.layers[0].outputs)\n",
    "                \n",
    "                dL_dW_L0 = np.dot(delta_L1, weights_L1)\n",
    "                \n",
    "                # Now perform backpropagation.\n",
    "                # for layer in reversed(self.layers):\n",
    "                #     # Go through all the layers from 'right to left'. \n",
    "                #     dA_dZ = layer.activation.derivative(layer.outputs)\n",
    "                #     # dZ_dW = the input (or output of the previous layer) because there is only one function connected through the edge that effects the z node, that being the input. \n",
    "                #     dZ_dW = layer.inputs\n",
    "    \n",
    "    def predict(self, x):\n",
    "        outputs = x\n",
    "        for layer in self.layers:\n",
    "            outputs = layer.forward(outputs)\n",
    "        self.output = outputs\n",
    "            "
   ]
  },
  {
   "cell_type": "markdown",
   "metadata": {},
   "source": [
    "For backpropagation, the formula for the very last layer is: \n",
    "![last-layer-backprop](https://miro.medium.com/max/828/1*zRDMl-GxVO7qENH5dNrZ-g.png)"
   ]
  },
  {
   "cell_type": "code",
   "execution_count": 193,
   "metadata": {},
   "outputs": [],
   "source": [
    "np.random.seed(42)  # To keep results consistent.\n",
    "\n",
    "number_inputs = X.shape[1]\n",
    "epochs = 1\n",
    "\n",
    "layers = [\n",
    "    Dense(number_inputs, 2, activation_function='relu', name='Layer 1'),\n",
    "    Dense(2, 1, activation_function='sigmoid', name='Layer 2')\n",
    "]"
   ]
  },
  {
   "cell_type": "code",
   "execution_count": 194,
   "metadata": {},
   "outputs": [],
   "source": [
    "def print_layer_outputs(network):\n",
    "    for layer in network.layers:\n",
    "        print(layer.name, ':\\n', layer.outputs)"
   ]
  },
  {
   "cell_type": "code",
   "execution_count": 195,
   "metadata": {},
   "outputs": [
    {
     "data": {
      "text/plain": [
       "(2, 21)"
      ]
     },
     "execution_count": 195,
     "metadata": {},
     "output_type": "execute_result"
    }
   ],
   "source": [
    "X_practice = X[0:2]\n",
    "X_practice.shape"
   ]
  },
  {
   "cell_type": "code",
   "execution_count": 196,
   "metadata": {},
   "outputs": [
    {
     "name": "stdout",
     "output_type": "stream",
     "text": [
      "dl_da [[1.97531727 2.        ]]\n",
      "da dz [[0.23536143 0.23500371]]\n",
      "dz dw [0.05996961 0.        ]\n",
      "dl dw [[0.02788068 0.        ]]\n"
     ]
    },
    {
     "ename": "ValueError",
     "evalue": "shapes (2,1) and (2,2) not aligned: 1 (dim 1) != 2 (dim 0)",
     "output_type": "error",
     "traceback": [
      "\u001b[1;31m---------------------------------------------------------------------------\u001b[0m",
      "\u001b[1;31mValueError\u001b[0m                                Traceback (most recent call last)",
      "\u001b[1;32mc:\\Users\\Laura\\OneDrive - Heriot-Watt University\\semester-seven\\bic\\breast-cancer-classifier\\ann_oop_v3.ipynb Cell 12\u001b[0m in \u001b[0;36m<cell line: 2>\u001b[1;34m()\u001b[0m\n\u001b[0;32m      <a href='vscode-notebook-cell:/c%3A/Users/Laura/OneDrive%20-%20Heriot-Watt%20University/semester-seven/bic/breast-cancer-classifier/ann_oop_v3.ipynb#X11sZmlsZQ%3D%3D?line=0'>1</a>\u001b[0m network \u001b[39m=\u001b[39m Network(layers)\n\u001b[1;32m----> <a href='vscode-notebook-cell:/c%3A/Users/Laura/OneDrive%20-%20Heriot-Watt%20University/semester-seven/bic/breast-cancer-classifier/ann_oop_v3.ipynb#X11sZmlsZQ%3D%3D?line=1'>2</a>\u001b[0m network\u001b[39m.\u001b[39;49mtrain(X_practice, y, number_epochs\u001b[39m=\u001b[39;49mepochs)\n",
      "\u001b[1;32mc:\\Users\\Laura\\OneDrive - Heriot-Watt University\\semester-seven\\bic\\breast-cancer-classifier\\ann_oop_v3.ipynb Cell 12\u001b[0m in \u001b[0;36mNetwork.train\u001b[1;34m(self, X_train, y_train, number_epochs, learning_rate)\u001b[0m\n\u001b[0;32m     <a href='vscode-notebook-cell:/c%3A/Users/Laura/OneDrive%20-%20Heriot-Watt%20University/semester-seven/bic/breast-cancer-classifier/ann_oop_v3.ipynb#X11sZmlsZQ%3D%3D?line=46'>47</a>\u001b[0m inputs_L1 \u001b[39m=\u001b[39m \u001b[39mself\u001b[39m\u001b[39m.\u001b[39mlayers[\u001b[39m0\u001b[39m]\u001b[39m.\u001b[39minputs\n\u001b[0;32m     <a href='vscode-notebook-cell:/c%3A/Users/Laura/OneDrive%20-%20Heriot-Watt%20University/semester-seven/bic/breast-cancer-classifier/ann_oop_v3.ipynb#X11sZmlsZQ%3D%3D?line=47'>48</a>\u001b[0m dA_dZ_L0 \u001b[39m=\u001b[39m \u001b[39mself\u001b[39m\u001b[39m.\u001b[39mlayers[\u001b[39m0\u001b[39m]\u001b[39m.\u001b[39mactivation\u001b[39m.\u001b[39mderivative(\u001b[39mself\u001b[39m\u001b[39m.\u001b[39mlayers[\u001b[39m0\u001b[39m]\u001b[39m.\u001b[39moutputs)\n\u001b[1;32m---> <a href='vscode-notebook-cell:/c%3A/Users/Laura/OneDrive%20-%20Heriot-Watt%20University/semester-seven/bic/breast-cancer-classifier/ann_oop_v3.ipynb#X11sZmlsZQ%3D%3D?line=49'>50</a>\u001b[0m dL_dW_L0 \u001b[39m=\u001b[39m np\u001b[39m.\u001b[39;49mdot(delta_L1, weights_L1)\n",
      "File \u001b[1;32m<__array_function__ internals>:180\u001b[0m, in \u001b[0;36mdot\u001b[1;34m(*args, **kwargs)\u001b[0m\n",
      "\u001b[1;31mValueError\u001b[0m: shapes (2,1) and (2,2) not aligned: 1 (dim 1) != 2 (dim 0)"
     ]
    }
   ],
   "source": [
    "network = Network(layers)\n",
    "network.train(X_practice, y, number_epochs=epochs)\n",
    "# print_layer_outputs(network)"
   ]
  }
 ],
 "metadata": {
  "kernelspec": {
   "display_name": "Python 3.9.13 ('F21DL')",
   "language": "python",
   "name": "python3"
  },
  "language_info": {
   "codemirror_mode": {
    "name": "ipython",
    "version": 3
   },
   "file_extension": ".py",
   "mimetype": "text/x-python",
   "name": "python",
   "nbconvert_exporter": "python",
   "pygments_lexer": "ipython3",
   "version": "3.9.13"
  },
  "orig_nbformat": 4,
  "vscode": {
   "interpreter": {
    "hash": "d80a60b5cae90d0132c97af96d84f3faaaa5679a5193fa9421d1db0d11796e0e"
   }
  }
 },
 "nbformat": 4,
 "nbformat_minor": 2
}
