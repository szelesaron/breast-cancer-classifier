{
 "cells": [
  {
   "cell_type": "markdown",
   "metadata": {},
   "source": [
    "Okay, let's start over after we've understood some maths. "
   ]
  },
  {
   "cell_type": "code",
   "execution_count": 499,
   "metadata": {},
   "outputs": [],
   "source": [
    "# Imports:\n",
    "import numpy as np\n",
    "import matplotlib.pyplot as plt\n",
    "import pandas as pd\n",
    "\n",
    "# Data Setup:\n",
    "X = np.load('data/X-data.npy')\n",
    "y = np.load('data/y-data.npy')\n",
    "\n",
    "np.random.seed(0)"
   ]
  },
  {
   "cell_type": "code",
   "execution_count": 500,
   "metadata": {},
   "outputs": [],
   "source": [
    "# Abstract Class Definitions: \n",
    "class Layer():\n",
    "    def __init__(self): \n",
    "        self.inputs = None  # The inputs into this layer. \n",
    "        self.outputs = None # The ouputs of this layer. \n",
    "        \n",
    "    # Forward propagation method.\n",
    "    def forward(self, inputs):\n",
    "        pass\n",
    "    \n",
    "    # Backward propagation method.\n",
    "    def backward(self):\n",
    "        pass\n",
    "    \n",
    "class Activation():\n",
    "    def activate():\n",
    "        pass\n",
    "    \n",
    "    def prime():\n",
    "        pass\n",
    "    \n",
    "class Loss():\n",
    "    def calculate_loss():\n",
    "        pass"
   ]
  },
  {
   "cell_type": "code",
   "execution_count": 501,
   "metadata": {},
   "outputs": [],
   "source": [
    "class ReLU(Activation):\n",
    "    def activate(self, x): \n",
    "        return np.maximum(x, 0.0)\n",
    "    \n",
    "    def derivative(self, x):\n",
    "        return (x > 0) * 1  # * 1 to return a number.\n",
    "    \n",
    "class Sigmoid(Activation):\n",
    "    def activate(self, x):\n",
    "        return 1 / (1 + np.exp(-x))\n",
    "    \n",
    "    def derivative(self, x):\n",
    "        s = self.activate(x)\n",
    "        return s * (1 - s)"
   ]
  },
  {
   "cell_type": "code",
   "execution_count": 502,
   "metadata": {},
   "outputs": [],
   "source": [
    "class CrossEntropyLoss():\n",
    "    def calculate_loss(self, y_true, y_pred):\n",
    "        return np.mean(-y_true * np.log(y_pred) - (1 - y_true) * np.log(1 - y_pred))\n",
    "    \n",
    "    def derivative(self, y_true, y_pred): \n",
    "        r = ((1 - y_true) / (1 - y_pred) - y_true / y_pred) / np.size(y_true)\n",
    "        return r"
   ]
  },
  {
   "cell_type": "code",
   "execution_count": 503,
   "metadata": {},
   "outputs": [],
   "source": [
    "# Dense (fully connected) Layer Class:\n",
    "class Dense(Layer): \n",
    "    def __init__(self, input_size, output_size, activation_function='relu', name='unnamed'):\n",
    "        self.name = name\n",
    "        self.weights = np.random.randn(output_size, input_size)\n",
    "        self.biases = np.zeros((output_size, 1))\n",
    "        self.outputs = None\n",
    "        \n",
    "        if activation_function == 'relu':\n",
    "            self.activation = ReLU()\n",
    "        elif activation_function == 'sigmoid':\n",
    "            self.activation = Sigmoid()\n",
    "        else:\n",
    "            self.activation = ReLU()  # Default to ReLU activation function.\n",
    "        \n",
    "    def print_weights(self):\n",
    "        print('Weights:\\n', pd.DataFrame(self.weights))\n",
    "        \n",
    "    def print_biases(self):\n",
    "        print('Biases:\\n', pd.DataFrame(self.biases))\n",
    "    \n",
    "    def forward(self, inputs):\n",
    "        self.inputs = inputs\n",
    "        self.outputs = self.activation.activate(np.dot(self.weights, inputs) + self.biases)\n",
    "        return self.outputs\n",
    "    \n",
    "    def backward(self, gradient_vector, learning_rate):\n",
    "        # We can skip updating self.outputs because they will be changed in the next iteration.\n",
    "        print('weights', self.weights.shape)\n",
    "        print('biases', self.biases.shape)\n",
    "        print('gradient vec', gradient_vector.shape)\n",
    "        print('inputs', self.inputs.shape)\n",
    "        self.weights -= learning_rate * np.dot(gradient_vector, self.inputs.T)\n",
    "        self.biases -= learning_rate * gradient_vector\n",
    "        return np.dot(self.weights.T, gradient_vector)"
   ]
  },
  {
   "cell_type": "code",
   "execution_count": 527,
   "metadata": {},
   "outputs": [],
   "source": [
    "class Network:\n",
    "    def __init__(self, layers, loss_function='cross_entropy'):\n",
    "        self.layers = layers\n",
    "        self.output = None\n",
    "        \n",
    "        if loss_function == 'cross_entropy':\n",
    "            self.loss = CrossEntropyLoss()\n",
    "        else:\n",
    "            self.loss = CrossEntropyLoss()  # Default to cross entropy loss. \n",
    "    \n",
    "    def train(self, X_train, y_train, number_epochs, learning_rate=0.1):\n",
    "        for epoch in range(number_epochs):\n",
    "            error = 0\n",
    "            \n",
    "            for x, y in zip(X_train, y_train):\n",
    "                # Process the forward pass. This goes through every layer.\n",
    "                self.predict(x)\n",
    "                \n",
    "                # Calculate the error after the forward pass. \n",
    "                error += self.loss.calculate_loss(y, self.output)\n",
    "\n",
    "                # Calculate the derivative of the loss in respect to the output.\n",
    "                dL_dA = self.loss.derivative(y, self.output)\n",
    "                print('dL_dA', dL_dA.shape)\n",
    "                # Shape is the number of neurons of the last layer x 1. \n",
    "                \n",
    "                # Calculate the derivative of the activation function in respect to the weighted sum\n",
    "                dA_dZ = self.layers[1].activation.derivative(self.layers[1].outputs)\n",
    "                print('dA_dZ', dA_dZ.shape)\n",
    "                \n",
    "                # The derivative of the weighted sum in respect to the weights\n",
    "                dZ_dW = self.layers[1].inputs\n",
    "                print('dZ_dW', dZ_dW.shape)\n",
    "                \n",
    "                # The derivative of the loss in respect to the weights, transpose to fit the weights\n",
    "                dL_dW_L1 = np.multiply(np.multiply(dL_dA, dA_dZ), dZ_dW).T\n",
    "                print('dl dw', dL_dW_L1)\n",
    "                \n",
    "                # Update the weights\n",
    "                print('shape weights', self.layers[1].weights.shape)\n",
    "                print('old weights', self.layers[1].weights)\n",
    "                \n",
    "                print('lr * dldw', learning_rate*dL_dW_L1)\n",
    "                new_weights = self.layers[1].weights - learning_rate * dL_dW_L1\n",
    "                print('new weights:', new_weights)\n",
    "                print('shape new weights:', new_weights.shape)\n",
    "                # # For the first layer                \n",
    "                # # Calculate the derivative of the activation function in respect to the weighted sum\n",
    "                # delta_L1 = np.multiply(dL_dA, dA_dZ).T\n",
    "                # weights_L1 = self.layers[1].weights\n",
    "                \n",
    "                # step_1 = np.dot(delta_L1, weights_L1)\n",
    "                # print('step 1:', step_1.shape)\n",
    "                \n",
    "                # inputs_L1 = self.layers[0].inputs\n",
    "                # dA_dZ_L0 = self.layers[0].activation.derivative(self.layers[0].outputs)\n",
    "                # print('da dz l0', dA_dZ_L0.shape)\n",
    "                # print('inputs_L1', inputs_L1.shape)\n",
    "                \n",
    "                # step_2 = np.multiply(step_1, dA_dZ_L0)\n",
    "                # print('step 2', step_2.shape)\n",
    "                \n",
    "                #dL_dW_L0 = np.dot(delta_L1, weights_L1)\n",
    "    \n",
    "    def predict(self, x):\n",
    "        outputs = x.reshape(21, 1)  # Create a matrix for dot product in forward()\n",
    "        for layer in self.layers:\n",
    "            outputs = layer.forward(outputs)\n",
    "        self.output = outputs\n",
    "            "
   ]
  },
  {
   "cell_type": "markdown",
   "metadata": {},
   "source": [
    "For backpropagation, the formula for the very last layer is: \n",
    "![last-layer-backprop](https://miro.medium.com/max/828/1*zRDMl-GxVO7qENH5dNrZ-g.png)"
   ]
  },
  {
   "cell_type": "code",
   "execution_count": 528,
   "metadata": {},
   "outputs": [],
   "source": [
    "np.random.seed(42)  # To keep results consistent.\n",
    "\n",
    "number_inputs = X.shape[1]\n",
    "epochs = 1\n",
    "\n",
    "layers = [\n",
    "    Dense(number_inputs, 2, activation_function='relu', name='Layer 1'),\n",
    "    Dense(2, 1, activation_function='sigmoid', name='Layer 2')\n",
    "]"
   ]
  },
  {
   "cell_type": "code",
   "execution_count": 529,
   "metadata": {},
   "outputs": [],
   "source": [
    "def print_layer_outputs(network):\n",
    "    for layer in network.layers:\n",
    "        print(layer.name, layer.outputs.shape, ':\\n', layer.outputs)"
   ]
  },
  {
   "cell_type": "code",
   "execution_count": 530,
   "metadata": {},
   "outputs": [
    {
     "data": {
      "text/plain": [
       "(2, 21)"
      ]
     },
     "execution_count": 530,
     "metadata": {},
     "output_type": "execute_result"
    }
   ],
   "source": [
    "X_practice = X[0:2]\n",
    "X_practice.shape"
   ]
  },
  {
   "cell_type": "code",
   "execution_count": 531,
   "metadata": {},
   "outputs": [
    {
     "name": "stdout",
     "output_type": "stream",
     "text": [
      "dL_dA (1, 1)\n",
      "dA_dZ (1, 1)\n",
      "dZ_dW (2, 1)\n",
      "dl dw [[0.02810067 0.        ]]\n",
      "shape weights (1, 2)\n",
      "old weights [[-0.11564828 -0.3011037 ]]\n",
      "lr * dldw [[0.00281007 0.        ]]\n",
      "new weights: [[-0.11845835 -0.3011037 ]]\n",
      "shape new weights: (1, 2)\n",
      "dL_dA (1, 1)\n",
      "dA_dZ (1, 1)\n",
      "dZ_dW (2, 1)\n",
      "dl dw [[0.14990523 0.        ]]\n",
      "shape weights (1, 2)\n",
      "old weights [[-0.11564828 -0.3011037 ]]\n",
      "lr * dldw [[0.01499052 0.        ]]\n",
      "new weights: [[-0.13063881 -0.3011037 ]]\n",
      "shape new weights: (1, 2)\n"
     ]
    }
   ],
   "source": [
    "network = Network(layers)\n",
    "network.train(X_practice, y, number_epochs=epochs)\n",
    "#print_layer_outputs(network)"
   ]
  }
 ],
 "metadata": {
  "kernelspec": {
   "display_name": "Python 3.9.13 ('F21DL')",
   "language": "python",
   "name": "python3"
  },
  "language_info": {
   "codemirror_mode": {
    "name": "ipython",
    "version": 3
   },
   "file_extension": ".py",
   "mimetype": "text/x-python",
   "name": "python",
   "nbconvert_exporter": "python",
   "pygments_lexer": "ipython3",
   "version": "3.9.13"
  },
  "orig_nbformat": 4,
  "vscode": {
   "interpreter": {
    "hash": "d80a60b5cae90d0132c97af96d84f3faaaa5679a5193fa9421d1db0d11796e0e"
   }
  }
 },
 "nbformat": 4,
 "nbformat_minor": 2
}
