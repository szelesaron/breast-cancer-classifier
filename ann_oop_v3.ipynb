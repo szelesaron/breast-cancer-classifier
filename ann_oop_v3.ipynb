{
 "cells": [
  {
   "cell_type": "markdown",
   "metadata": {},
   "source": [
    "Okay, let's start over after we've understood some maths. "
   ]
  },
  {
   "cell_type": "code",
   "execution_count": 185,
   "metadata": {},
   "outputs": [],
   "source": [
    "# Imports:\n",
    "import numpy as np\n",
    "import matplotlib.pyplot as plt\n",
    "import pandas as pd\n",
    "\n",
    "# Data Setup:\n",
    "X = np.load('data/X-data.npy')\n",
    "y = np.load('data/y-data.npy')\n",
    "\n",
    "np.random.seed(0)"
   ]
  },
  {
   "cell_type": "code",
   "execution_count": 186,
   "metadata": {},
   "outputs": [],
   "source": [
    "# Abstract Class Definitions: \n",
    "class Layer():\n",
    "    def __init__(self): \n",
    "        self.inputs = None  # The inputs into this layer. \n",
    "        self.outputs = None # The ouputs of this layer. \n",
    "        \n",
    "    # Forward propagation method.\n",
    "    def forward(self, inputs):\n",
    "        pass\n",
    "    \n",
    "    # Backward propagation method.\n",
    "    def backward(self):\n",
    "        pass\n",
    "    \n",
    "class Activation():\n",
    "    def activate():\n",
    "        pass\n",
    "    \n",
    "    def prime():\n",
    "        pass"
   ]
  },
  {
   "cell_type": "code",
   "execution_count": 187,
   "metadata": {},
   "outputs": [],
   "source": [
    "class ReLU(Activation):\n",
    "    def activate(self, x): \n",
    "        return np.maximum(x, 0.0)\n",
    "    \n",
    "class Sigmoid(Activation):\n",
    "    def activate(self, x):\n",
    "        return 1 / (1 + np.exp(-x))"
   ]
  },
  {
   "cell_type": "code",
   "execution_count": 188,
   "metadata": {},
   "outputs": [],
   "source": [
    "# Dense (fully connected) Layer Class:\n",
    "class Dense(Layer): \n",
    "    def __init__(self, input_size, output_size, activation_function='relu'):\n",
    "        self.weights = np.random.randn(output_size, input_size)\n",
    "        self.biases = np.zeros((1, input_size))\n",
    "        self.outputs = None\n",
    "        \n",
    "        if activation_function == 'relu':\n",
    "            self.activation = ReLU()\n",
    "        elif activation_function == 'sigmoid':\n",
    "            self.activation = Sigmoid()\n",
    "        else:\n",
    "            self.activation = ReLU()  # Default to ReLU activation function.\n",
    "        \n",
    "    def print_weights(self):\n",
    "        print('Weights:\\n', pd.DataFrame(self.weights))\n",
    "        \n",
    "    def print_biases(self):\n",
    "        print('Biases:\\n', pd.DataFrame(self.biases))\n",
    "    \n",
    "    def forward(self, inputs):\n",
    "        self.weights = np.dot(self.weights, inputs) + self.biases\n",
    "        self.outputs = self.activation.activate(self.weights)\n",
    "        return self.outputs\n",
    "    \n",
    "    def backward(self):\n",
    "        pass"
   ]
  },
  {
   "cell_type": "code",
   "execution_count": 189,
   "metadata": {},
   "outputs": [],
   "source": [
    "class Network:\n",
    "    def __init__(self, layers):\n",
    "        self.layers = layers\n",
    "        self.output = None\n",
    "    \n",
    "    def train(self, X, number_epochs):\n",
    "        for epoch in range(number_epochs):\n",
    "            for x in X:\n",
    "                self.predict(x)  # Assigns something to output. \n",
    "    \n",
    "    def predict(self, x):\n",
    "        outputs = x\n",
    "        for layer in self.layers:\n",
    "            outputs = layer.forward(outputs)\n",
    "        self.output = outputs\n",
    "            "
   ]
  },
  {
   "cell_type": "code",
   "execution_count": 193,
   "metadata": {},
   "outputs": [
    {
     "ename": "ValueError",
     "evalue": "operands could not be broadcast together with shapes (3,) (3,21) ",
     "output_type": "error",
     "traceback": [
      "\u001b[1;31m---------------------------------------------------------------------------\u001b[0m",
      "\u001b[1;31mValueError\u001b[0m                                Traceback (most recent call last)",
      "\u001b[1;32mc:\\Users\\Laura\\OneDrive - Heriot-Watt University\\semester-seven\\bic\\breast-cancer-classifier\\ann_oop_v3.ipynb Cell 7\u001b[0m in \u001b[0;36m<cell line: 10>\u001b[1;34m()\u001b[0m\n\u001b[0;32m      <a href='vscode-notebook-cell:/c%3A/Users/Laura/OneDrive%20-%20Heriot-Watt%20University/semester-seven/bic/breast-cancer-classifier/ann_oop_v3.ipynb#W4sZmlsZQ%3D%3D?line=3'>4</a>\u001b[0m epochs \u001b[39m=\u001b[39m \u001b[39m10\u001b[39m\n\u001b[0;32m      <a href='vscode-notebook-cell:/c%3A/Users/Laura/OneDrive%20-%20Heriot-Watt%20University/semester-seven/bic/breast-cancer-classifier/ann_oop_v3.ipynb#W4sZmlsZQ%3D%3D?line=5'>6</a>\u001b[0m layers \u001b[39m=\u001b[39m [\n\u001b[0;32m      <a href='vscode-notebook-cell:/c%3A/Users/Laura/OneDrive%20-%20Heriot-Watt%20University/semester-seven/bic/breast-cancer-classifier/ann_oop_v3.ipynb#W4sZmlsZQ%3D%3D?line=6'>7</a>\u001b[0m     Dense(number_inputs, \u001b[39m3\u001b[39m, activation_function\u001b[39m=\u001b[39m\u001b[39m'\u001b[39m\u001b[39mrelu\u001b[39m\u001b[39m'\u001b[39m),\n\u001b[0;32m      <a href='vscode-notebook-cell:/c%3A/Users/Laura/OneDrive%20-%20Heriot-Watt%20University/semester-seven/bic/breast-cancer-classifier/ann_oop_v3.ipynb#W4sZmlsZQ%3D%3D?line=7'>8</a>\u001b[0m     Dense(\u001b[39m3\u001b[39m, \u001b[39m1\u001b[39m, activation_function\u001b[39m=\u001b[39m\u001b[39m'\u001b[39m\u001b[39msigmoid\u001b[39m\u001b[39m'\u001b[39m)\n\u001b[0;32m      <a href='vscode-notebook-cell:/c%3A/Users/Laura/OneDrive%20-%20Heriot-Watt%20University/semester-seven/bic/breast-cancer-classifier/ann_oop_v3.ipynb#W4sZmlsZQ%3D%3D?line=8'>9</a>\u001b[0m ]\n\u001b[1;32m---> <a href='vscode-notebook-cell:/c%3A/Users/Laura/OneDrive%20-%20Heriot-Watt%20University/semester-seven/bic/breast-cancer-classifier/ann_oop_v3.ipynb#W4sZmlsZQ%3D%3D?line=9'>10</a>\u001b[0m layers[\u001b[39m0\u001b[39;49m]\u001b[39m.\u001b[39;49mbiases \u001b[39m+\u001b[39;49m layers[\u001b[39m0\u001b[39;49m]\u001b[39m.\u001b[39;49mweights\n",
      "\u001b[1;31mValueError\u001b[0m: operands could not be broadcast together with shapes (3,) (3,21) "
     ]
    }
   ],
   "source": [
    "np.random.seed(42)  # To keep results consistent.\n",
    "\n",
    "number_inputs = X.shape[1]\n",
    "epochs = 10\n",
    "\n",
    "layers = [\n",
    "    Dense(number_inputs, 3, activation_function='relu'),\n",
    "    Dense(3, 1, activation_function='sigmoid')\n",
    "]\n",
    "layers[0].biases + layers[0].weights"
   ]
  },
  {
   "cell_type": "code",
   "execution_count": 191,
   "metadata": {},
   "outputs": [
    {
     "ename": "ValueError",
     "evalue": "shapes (3,) and (21,) not aligned: 3 (dim 0) != 21 (dim 0)",
     "output_type": "error",
     "traceback": [
      "\u001b[1;31m---------------------------------------------------------------------------\u001b[0m",
      "\u001b[1;31mValueError\u001b[0m                                Traceback (most recent call last)",
      "\u001b[1;32mc:\\Users\\Laura\\OneDrive - Heriot-Watt University\\semester-seven\\bic\\breast-cancer-classifier\\ann_oop_v3.ipynb Cell 8\u001b[0m in \u001b[0;36m<cell line: 2>\u001b[1;34m()\u001b[0m\n\u001b[0;32m      <a href='vscode-notebook-cell:/c%3A/Users/Laura/OneDrive%20-%20Heriot-Watt%20University/semester-seven/bic/breast-cancer-classifier/ann_oop_v3.ipynb#X10sZmlsZQ%3D%3D?line=0'>1</a>\u001b[0m network \u001b[39m=\u001b[39m Network(layers)\n\u001b[1;32m----> <a href='vscode-notebook-cell:/c%3A/Users/Laura/OneDrive%20-%20Heriot-Watt%20University/semester-seven/bic/breast-cancer-classifier/ann_oop_v3.ipynb#X10sZmlsZQ%3D%3D?line=1'>2</a>\u001b[0m network\u001b[39m.\u001b[39;49mtrain(X, number_epochs\u001b[39m=\u001b[39;49mepochs)\n",
      "\u001b[1;32mc:\\Users\\Laura\\OneDrive - Heriot-Watt University\\semester-seven\\bic\\breast-cancer-classifier\\ann_oop_v3.ipynb Cell 8\u001b[0m in \u001b[0;36mNetwork.train\u001b[1;34m(self, X, number_epochs)\u001b[0m\n\u001b[0;32m      <a href='vscode-notebook-cell:/c%3A/Users/Laura/OneDrive%20-%20Heriot-Watt%20University/semester-seven/bic/breast-cancer-classifier/ann_oop_v3.ipynb#X10sZmlsZQ%3D%3D?line=6'>7</a>\u001b[0m \u001b[39mfor\u001b[39;00m epoch \u001b[39min\u001b[39;00m \u001b[39mrange\u001b[39m(number_epochs):\n\u001b[0;32m      <a href='vscode-notebook-cell:/c%3A/Users/Laura/OneDrive%20-%20Heriot-Watt%20University/semester-seven/bic/breast-cancer-classifier/ann_oop_v3.ipynb#X10sZmlsZQ%3D%3D?line=7'>8</a>\u001b[0m     \u001b[39mfor\u001b[39;00m x \u001b[39min\u001b[39;00m X:\n\u001b[1;32m----> <a href='vscode-notebook-cell:/c%3A/Users/Laura/OneDrive%20-%20Heriot-Watt%20University/semester-seven/bic/breast-cancer-classifier/ann_oop_v3.ipynb#X10sZmlsZQ%3D%3D?line=8'>9</a>\u001b[0m         \u001b[39mself\u001b[39;49m\u001b[39m.\u001b[39;49mpredict(x)\n",
      "\u001b[1;32mc:\\Users\\Laura\\OneDrive - Heriot-Watt University\\semester-seven\\bic\\breast-cancer-classifier\\ann_oop_v3.ipynb Cell 8\u001b[0m in \u001b[0;36mNetwork.predict\u001b[1;34m(self, x)\u001b[0m\n\u001b[0;32m     <a href='vscode-notebook-cell:/c%3A/Users/Laura/OneDrive%20-%20Heriot-Watt%20University/semester-seven/bic/breast-cancer-classifier/ann_oop_v3.ipynb#X10sZmlsZQ%3D%3D?line=11'>12</a>\u001b[0m outputs \u001b[39m=\u001b[39m x\n\u001b[0;32m     <a href='vscode-notebook-cell:/c%3A/Users/Laura/OneDrive%20-%20Heriot-Watt%20University/semester-seven/bic/breast-cancer-classifier/ann_oop_v3.ipynb#X10sZmlsZQ%3D%3D?line=12'>13</a>\u001b[0m \u001b[39mfor\u001b[39;00m layer \u001b[39min\u001b[39;00m \u001b[39mself\u001b[39m\u001b[39m.\u001b[39mlayers:\n\u001b[1;32m---> <a href='vscode-notebook-cell:/c%3A/Users/Laura/OneDrive%20-%20Heriot-Watt%20University/semester-seven/bic/breast-cancer-classifier/ann_oop_v3.ipynb#X10sZmlsZQ%3D%3D?line=13'>14</a>\u001b[0m     outputs \u001b[39m=\u001b[39m layer\u001b[39m.\u001b[39;49mforward(outputs)\n\u001b[0;32m     <a href='vscode-notebook-cell:/c%3A/Users/Laura/OneDrive%20-%20Heriot-Watt%20University/semester-seven/bic/breast-cancer-classifier/ann_oop_v3.ipynb#X10sZmlsZQ%3D%3D?line=14'>15</a>\u001b[0m \u001b[39mself\u001b[39m\u001b[39m.\u001b[39moutput \u001b[39m=\u001b[39m outputs\n",
      "\u001b[1;32mc:\\Users\\Laura\\OneDrive - Heriot-Watt University\\semester-seven\\bic\\breast-cancer-classifier\\ann_oop_v3.ipynb Cell 8\u001b[0m in \u001b[0;36mDense.forward\u001b[1;34m(self, inputs)\u001b[0m\n\u001b[0;32m     <a href='vscode-notebook-cell:/c%3A/Users/Laura/OneDrive%20-%20Heriot-Watt%20University/semester-seven/bic/breast-cancer-classifier/ann_oop_v3.ipynb#X10sZmlsZQ%3D%3D?line=20'>21</a>\u001b[0m \u001b[39mdef\u001b[39;00m \u001b[39mforward\u001b[39m(\u001b[39mself\u001b[39m, inputs):\n\u001b[1;32m---> <a href='vscode-notebook-cell:/c%3A/Users/Laura/OneDrive%20-%20Heriot-Watt%20University/semester-seven/bic/breast-cancer-classifier/ann_oop_v3.ipynb#X10sZmlsZQ%3D%3D?line=21'>22</a>\u001b[0m     \u001b[39mself\u001b[39m\u001b[39m.\u001b[39mweights \u001b[39m=\u001b[39m np\u001b[39m.\u001b[39;49mdot(\u001b[39mself\u001b[39;49m\u001b[39m.\u001b[39;49mweights, inputs) \u001b[39m+\u001b[39m \u001b[39mself\u001b[39m\u001b[39m.\u001b[39mbiases\n\u001b[0;32m     <a href='vscode-notebook-cell:/c%3A/Users/Laura/OneDrive%20-%20Heriot-Watt%20University/semester-seven/bic/breast-cancer-classifier/ann_oop_v3.ipynb#X10sZmlsZQ%3D%3D?line=22'>23</a>\u001b[0m     \u001b[39mself\u001b[39m\u001b[39m.\u001b[39moutputs \u001b[39m=\u001b[39m \u001b[39mself\u001b[39m\u001b[39m.\u001b[39mactivation\u001b[39m.\u001b[39mactivate(\u001b[39mself\u001b[39m\u001b[39m.\u001b[39mweights)\n\u001b[0;32m     <a href='vscode-notebook-cell:/c%3A/Users/Laura/OneDrive%20-%20Heriot-Watt%20University/semester-seven/bic/breast-cancer-classifier/ann_oop_v3.ipynb#X10sZmlsZQ%3D%3D?line=23'>24</a>\u001b[0m     \u001b[39mreturn\u001b[39;00m \u001b[39mself\u001b[39m\u001b[39m.\u001b[39moutputs\n",
      "File \u001b[1;32m<__array_function__ internals>:180\u001b[0m, in \u001b[0;36mdot\u001b[1;34m(*args, **kwargs)\u001b[0m\n",
      "\u001b[1;31mValueError\u001b[0m: shapes (3,) and (21,) not aligned: 3 (dim 0) != 21 (dim 0)"
     ]
    }
   ],
   "source": [
    "network = Network(layers)\n",
    "network.train(X, number_epochs=epochs)"
   ]
  }
 ],
 "metadata": {
  "kernelspec": {
   "display_name": "Python 3.9.13 ('F21DL')",
   "language": "python",
   "name": "python3"
  },
  "language_info": {
   "codemirror_mode": {
    "name": "ipython",
    "version": 3
   },
   "file_extension": ".py",
   "mimetype": "text/x-python",
   "name": "python",
   "nbconvert_exporter": "python",
   "pygments_lexer": "ipython3",
   "version": "3.9.13"
  },
  "orig_nbformat": 4,
  "vscode": {
   "interpreter": {
    "hash": "d80a60b5cae90d0132c97af96d84f3faaaa5679a5193fa9421d1db0d11796e0e"
   }
  }
 },
 "nbformat": 4,
 "nbformat_minor": 2
}
