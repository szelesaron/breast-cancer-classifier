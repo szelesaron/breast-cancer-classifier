{
 "cells": [
  {
   "cell_type": "markdown",
   "metadata": {},
   "source": [
    "# A single Perceptron\n",
    "We are using [this](https://archive.ics.uci.edu/ml/datasets/Breast+Cancer+Wisconsin+%28Diagnostic%29) data.\n",
    "This is code to implement a single perceptron in Object Oriented Programming using the data from the coursework. "
   ]
  },
  {
   "cell_type": "markdown",
   "metadata": {},
   "source": [
    "### Imports & Data Setup\n",
    "Exploratory Data Analysis and explanation for preprocessing can be found in perceptron.ipynb."
   ]
  },
  {
   "cell_type": "code",
   "execution_count": 2,
   "metadata": {},
   "outputs": [],
   "source": [
    "import numpy as np\n",
    "import matplotlib.pyplot as plt\n",
    "import pandas as pd\n",
    "import seaborn as sns\n",
    "from sklearn.preprocessing import MinMaxScaler\n",
    "\n",
    "# Loading the pre-processed data. Preprocessing can be found in perceptron.ipynb.\n",
    "X = np.load(\"data/X-data.npy\")\n",
    "y = np.load(\"data/y-data.npy\")\n",
    "\n",
    "# Setting a random seed for consistency. \n",
    "np.random.seed(42)"
   ]
  },
  {
   "cell_type": "markdown",
   "metadata": {},
   "source": [
    "### Object-Oriented Approach\n",
    "#### Layers\n",
    "Each layer in an ANN is made up of a number of neurons. Each of those neurons is just a visualization to make it easier for humans to understand how a neural network works.  \n",
    "In practice, what you need for a layer on a very basic level is:\n",
    "- an array of weights\n",
    "- an array of biases\n",
    "- an array of outputs\n",
    "The length of all three arrays will be the same and depict the **number of neurons** on this specific layer.  \n",
    "  \n",
    "Then we also need an input for the layer. For the first layer, that will be our data. For the hidden layers and the output layer, that will be the output from the layer before. The input will need to be passed to the layer.  \n",
    "  \n",
    "Each layer must be able to process `activation_function(inputs * weights + bias)` and assign that to `layer.outputs`. "
   ]
  },
  {
   "cell_type": "markdown",
   "metadata": {},
   "source": [
    "## Class definitions"
   ]
  },
  {
   "cell_type": "markdown",
   "metadata": {},
   "source": [
    "#### Constants"
   ]
  },
  {
   "cell_type": "code",
   "execution_count": 38,
   "metadata": {},
   "outputs": [],
   "source": [
    "# Global variables.\n",
    "learning_rate = 0.1\n",
    "epochs = 100\n",
    "np.random.seed(10)"
   ]
  },
  {
   "cell_type": "code",
   "execution_count": 76,
   "metadata": {},
   "outputs": [],
   "source": [
    "\n",
    "class Layer:\n",
    "    def __init__(self, nr_inputs, nr_neurons, activation_function):  # Constructor.\n",
    "        self.weights = np.zeros(nr_inputs)  # Create random initial weights.\n",
    "        self.biases = np.random.randn(nr_neurons)  # Create random initial biases.\n",
    "        self.activation = activation_function  # I love how you can pass functions in python. \n",
    "        \n",
    "        # Variables used for Backpropagation.\n",
    "        \n",
    "        \n",
    "        self.output = []  # To save the outputs of this layer.\n",
    "     \n",
    "    # For pretty printing.   \n",
    "    def __str__(self):\n",
    "        return \"Weights: \"+ str(self.weights) + \",\\n Biases: \" + str(self.biases) + \"\\nActivation: \"+ str(self.activation)\n",
    "        \n",
    "    def forward_propagation(self, inputs):\n",
    "        self.output.append(self.activation(np.dot(inputs, self.weights) + self.biases)[0])\n",
    "        \n",
    "    def back_propagation(self, y, y_hat):\n",
    "        self.weights += learning_rate * (y - y_hat) * y_hat\n",
    "        self.biases += learning_rate * (y - y_hat)"
   ]
  },
  {
   "cell_type": "markdown",
   "metadata": {},
   "source": [
    "#### Activation Functions\n",
    "Then we need a collection of different activation functions, as each of our layers will have a specific activation function."
   ]
  },
  {
   "cell_type": "code",
   "execution_count": 77,
   "metadata": {},
   "outputs": [],
   "source": [
    "class ActivationFunctions:\n",
    "    def __init__(self, step_threshold=0.5): \n",
    "        self.step_threshold = step_threshold  # Use a default threshold of 0.5.\n",
    "        \n",
    "    def relu(x):\n",
    "        return np.maximum(x, 0.0)\n",
    "    \n",
    "    def step(self, x):\n",
    "        for row, element in enumerate(x):\n",
    "            x[row] = 1.0 if element > self.step_threshold else 0.0\n",
    "        return x\n",
    "    \n",
    "    def sigmoid(x):\n",
    "        return 1 / (1 + np.exp(-x))"
   ]
  },
  {
   "cell_type": "markdown",
   "metadata": {},
   "source": [
    "## Training "
   ]
  },
  {
   "cell_type": "code",
   "execution_count": 84,
   "metadata": {},
   "outputs": [],
   "source": [
    "step_function = ActivationFunctions().step\n",
    "perceptron = Layer(X.shape[1], 10, step_function)\n",
    "\n",
    "for _ in range(1):\n",
    "    for index, x in enumerate(X):\n",
    "        perceptron.forward_propagation(x)\n",
    "        perceptron.back_propagation(y[index], perceptron.output[index])"
   ]
  },
  {
   "cell_type": "code",
   "execution_count": 86,
   "metadata": {},
   "outputs": [
    {
     "name": "stdout",
     "output_type": "stream",
     "text": [
      "Weights: [-1. -1. -1. -1. -1. -1. -1. -1. -1. -1. -1. -1. -1. -1. -1. -1. -1. -1.\n",
      " -1. -1. -1.],\n",
      " Biases: [5.64381452 7.2772263  7.43415215 5.36828789 7.45116949 7.89334122\n",
      " 7.71726515 5.50560623 8.60770823 7.74454398]\n",
      "Activation: <bound method ActivationFunctions.step of <__main__.ActivationFunctions object at 0x000001E87E25A580>>\n"
     ]
    }
   ],
   "source": [
    "print(perceptron.__str__())"
   ]
  },
  {
   "cell_type": "markdown",
   "metadata": {},
   "source": [
    "## Evaluation"
   ]
  },
  {
   "cell_type": "code",
   "execution_count": 87,
   "metadata": {},
   "outputs": [
    {
     "name": "stdout",
     "output_type": "stream",
     "text": [
      "Accuracy:  83.30404217926186\n"
     ]
    }
   ],
   "source": [
    "res = pd.DataFrame()\n",
    "res['Predictions'] = perceptron.output\n",
    "res['Predictions'] = res['Predictions'].apply(lambda x: 0 if x < 0.5 else 1)\n",
    "res['Expectation'] = y\n",
    "\n",
    "print(\"Accuracy: \", res.loc[res['Predictions']==res['Expectation']].shape[0] / res.shape[0] * 100)"
   ]
  },
  {
   "cell_type": "code",
   "execution_count": null,
   "metadata": {},
   "outputs": [],
   "source": []
  }
 ],
 "metadata": {
  "kernelspec": {
   "display_name": "Python 3",
   "language": "python",
   "name": "python3"
  },
  "language_info": {
   "codemirror_mode": {
    "name": "ipython",
    "version": 3
   },
   "file_extension": ".py",
   "mimetype": "text/x-python",
   "name": "python",
   "nbconvert_exporter": "python",
   "pygments_lexer": "ipython3",
   "version": "3.8.5"
  },
  "vscode": {
   "interpreter": {
    "hash": "d80a60b5cae90d0132c97af96d84f3faaaa5679a5193fa9421d1db0d11796e0e"
   }
  }
 },
 "nbformat": 4,
 "nbformat_minor": 2
}
