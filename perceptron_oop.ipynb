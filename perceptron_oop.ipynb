{
 "cells": [
  {
   "cell_type": "markdown",
   "metadata": {},
   "source": [
    "# A single Perceptron\n",
    "We are using [this](https://archive.ics.uci.edu/ml/datasets/Breast+Cancer+Wisconsin+%28Diagnostic%29) data.\n",
    "This is code to implement a single perceptron in Object Oriented Programming using the data from the coursework. "
   ]
  },
  {
   "cell_type": "markdown",
   "metadata": {},
   "source": [
    "### Imports & Data Setup\n",
    "Exploratory Data Analysis and explanation for preprocessing can be found in perceptron.ipynb."
   ]
  },
  {
   "cell_type": "code",
   "execution_count": 115,
   "metadata": {},
   "outputs": [],
   "source": [
    "import numpy as np\n",
    "import matplotlib.pyplot as plt\n",
    "import pandas as pd\n",
    "import seaborn as sns\n",
    "from sklearn.preprocessing import MinMaxScaler\n",
    "\n",
    "# Loading the pre-processed data. Preprocessing can be found in perceptron.ipynb.\n",
    "X = np.load(\"data/X-data.npy\")\n",
    "y = np.load(\"data/y-data.npy\")\n",
    "\n",
    "# Setting a random seed for consistency. \n",
    "np.random.seed(42)"
   ]
  },
  {
   "cell_type": "markdown",
   "metadata": {},
   "source": [
    "### Object-Oriented Approach\n",
    "#### Layers\n",
    "Each layer in an ANN is made up of a number of neurons. Each of those neurons is just a visualization to make it easier for humans to understand how a neural network works.  \n",
    "In practice, what you need for a layer on a very basic level is:\n",
    "- an array of weights\n",
    "- an array of biases\n",
    "- an array of outputs\n",
    "The length of all three arrays will be the same and depict the **number of neurons** on this specific layer.  \n",
    "  \n",
    "Then we also need an input for the layer. For the first layer, that will be our data. For the hidden layers and the output layer, that will be the output from the layer before. The input will need to be passed to the layer.  \n",
    "  \n",
    "Each layer must be able to process `activation_function(inputs * weights + bias)` and assign that to `layer.outputs`. "
   ]
  },
  {
   "cell_type": "code",
   "execution_count": 116,
   "metadata": {},
   "outputs": [],
   "source": [
    "# Global variables.\n",
    "learning_rate = 0.1\n",
    "\n",
    "class Layer:\n",
    "    def __init__(self, nr_inputs, nr_neurons, activation_function):  # Constructor.\n",
    "        self.weights = np.zeros(nr_inputs)  # Create random initial weights.\n",
    "        self.biases = np.random.randn(nr_neurons)  # Create random initial biases.\n",
    "        self.activation = activation_function  # I love how you can pass functions in python. \n",
    "        \n",
    "        # Variables used for Backpropagation.\n",
    "        \n",
    "        \n",
    "        self.output = []  # To save the outputs of this layer.\n",
    "     \n",
    "    # For pretty printing.   \n",
    "    def __str__(self):\n",
    "        return f\"Weights: {self.weights},\\nBiases: {self.biases}\\nActivation: {self.activation}.\"\n",
    "        \n",
    "    def forward_propagation(self, inputs):\n",
    "        self.output.append(self.activation(np.dot(inputs, self.weights) + self.biases)[0])\n",
    "        \n",
    "    def back_propagation(self, y, y_hat):\n",
    "        self.weights += learning_rate * (y - y_hat) * y_hat\n",
    "        self.biases += learning_rate * (y - y_hat)"
   ]
  },
  {
   "cell_type": "markdown",
   "metadata": {},
   "source": [
    "#### Activation Functions\n",
    "Then we need a collection of different activation functions, as each of our layers will have a specific activation function."
   ]
  },
  {
   "cell_type": "code",
   "execution_count": 117,
   "metadata": {},
   "outputs": [],
   "source": [
    "class ActivationFunctions:\n",
    "    def __init__(self, step_threshold=0.5): \n",
    "        self.step_threshold = step_threshold  # Use a default threshold of 0.5.\n",
    "        \n",
    "    def relu(x):\n",
    "        return np.maximum(x, 0.0)\n",
    "    \n",
    "    def step(self, x):\n",
    "        for row, element in enumerate(x):\n",
    "            x[row] = 1.0 if element > self.step_threshold else 0.0\n",
    "        return x\n",
    "    \n",
    "    def sigmoid(x):\n",
    "        return 1 / (1 + np.exp(-x))"
   ]
  },
  {
   "cell_type": "code",
   "execution_count": 120,
   "metadata": {},
   "outputs": [],
   "source": [
    "step_function = ActivationFunctions().step\n",
    "perceptron = Layer(X.shape[1], 1, step_function)\n",
    "\n",
    "for epoch in range(100):\n",
    "    for index, x in enumerate(X):\n",
    "        perceptron.forward_propagation(x)\n",
    "        perceptron.back_propagation(y[index], perceptron.output[index])"
   ]
  },
  {
   "cell_type": "code",
   "execution_count": 121,
   "metadata": {},
   "outputs": [
    {
     "ename": "ValueError",
     "evalue": "Length of values (569) does not match length of index (56900)",
     "output_type": "error",
     "traceback": [
      "\u001b[1;31m---------------------------------------------------------------------------\u001b[0m",
      "\u001b[1;31mValueError\u001b[0m                                Traceback (most recent call last)",
      "\u001b[1;32mc:\\Users\\Laura\\OneDrive - Heriot-Watt University\\semester-seven\\bic\\breast-cancer-classifier\\perceptron_oop.ipynb Cell 9\u001b[0m in \u001b[0;36m<cell line: 4>\u001b[1;34m()\u001b[0m\n\u001b[0;32m      <a href='vscode-notebook-cell:/c%3A/Users/Laura/OneDrive%20-%20Heriot-Watt%20University/semester-seven/bic/breast-cancer-classifier/perceptron_oop.ipynb#X16sZmlsZQ%3D%3D?line=1'>2</a>\u001b[0m res[\u001b[39m'\u001b[39m\u001b[39mPredictions\u001b[39m\u001b[39m'\u001b[39m] \u001b[39m=\u001b[39m perceptron\u001b[39m.\u001b[39moutput\n\u001b[0;32m      <a href='vscode-notebook-cell:/c%3A/Users/Laura/OneDrive%20-%20Heriot-Watt%20University/semester-seven/bic/breast-cancer-classifier/perceptron_oop.ipynb#X16sZmlsZQ%3D%3D?line=2'>3</a>\u001b[0m res[\u001b[39m'\u001b[39m\u001b[39mPredictions\u001b[39m\u001b[39m'\u001b[39m] \u001b[39m=\u001b[39m res[\u001b[39m'\u001b[39m\u001b[39mPredictions\u001b[39m\u001b[39m'\u001b[39m]\u001b[39m.\u001b[39mapply(\u001b[39mlambda\u001b[39;00m x: \u001b[39m0\u001b[39m \u001b[39mif\u001b[39;00m x \u001b[39m<\u001b[39m \u001b[39m0.5\u001b[39m \u001b[39melse\u001b[39;00m \u001b[39m1\u001b[39m)\n\u001b[1;32m----> <a href='vscode-notebook-cell:/c%3A/Users/Laura/OneDrive%20-%20Heriot-Watt%20University/semester-seven/bic/breast-cancer-classifier/perceptron_oop.ipynb#X16sZmlsZQ%3D%3D?line=3'>4</a>\u001b[0m res[\u001b[39m'\u001b[39m\u001b[39mExpectation\u001b[39m\u001b[39m'\u001b[39m] \u001b[39m=\u001b[39m y\n\u001b[0;32m      <a href='vscode-notebook-cell:/c%3A/Users/Laura/OneDrive%20-%20Heriot-Watt%20University/semester-seven/bic/breast-cancer-classifier/perceptron_oop.ipynb#X16sZmlsZQ%3D%3D?line=5'>6</a>\u001b[0m \u001b[39mprint\u001b[39m(\u001b[39m\"\u001b[39m\u001b[39mAccuracy: \u001b[39m\u001b[39m\"\u001b[39m, res\u001b[39m.\u001b[39mloc[res[\u001b[39m'\u001b[39m\u001b[39mPredictions\u001b[39m\u001b[39m'\u001b[39m]\u001b[39m==\u001b[39mres[\u001b[39m'\u001b[39m\u001b[39mExpectation\u001b[39m\u001b[39m'\u001b[39m]]\u001b[39m.\u001b[39mshape[\u001b[39m0\u001b[39m] \u001b[39m/\u001b[39m res\u001b[39m.\u001b[39mshape[\u001b[39m0\u001b[39m] \u001b[39m*\u001b[39m \u001b[39m100\u001b[39m)\n",
      "File \u001b[1;32mc:\\Users\\Laura\\anaconda3\\envs\\F21DL\\lib\\site-packages\\pandas\\core\\frame.py:3655\u001b[0m, in \u001b[0;36mDataFrame.__setitem__\u001b[1;34m(self, key, value)\u001b[0m\n\u001b[0;32m   3652\u001b[0m     \u001b[39mself\u001b[39m\u001b[39m.\u001b[39m_setitem_array([key], value)\n\u001b[0;32m   3653\u001b[0m \u001b[39melse\u001b[39;00m:\n\u001b[0;32m   3654\u001b[0m     \u001b[39m# set column\u001b[39;00m\n\u001b[1;32m-> 3655\u001b[0m     \u001b[39mself\u001b[39;49m\u001b[39m.\u001b[39;49m_set_item(key, value)\n",
      "File \u001b[1;32mc:\\Users\\Laura\\anaconda3\\envs\\F21DL\\lib\\site-packages\\pandas\\core\\frame.py:3832\u001b[0m, in \u001b[0;36mDataFrame._set_item\u001b[1;34m(self, key, value)\u001b[0m\n\u001b[0;32m   3822\u001b[0m \u001b[39mdef\u001b[39;00m \u001b[39m_set_item\u001b[39m(\u001b[39mself\u001b[39m, key, value) \u001b[39m-\u001b[39m\u001b[39m>\u001b[39m \u001b[39mNone\u001b[39;00m:\n\u001b[0;32m   3823\u001b[0m     \u001b[39m\"\"\"\u001b[39;00m\n\u001b[0;32m   3824\u001b[0m \u001b[39m    Add series to DataFrame in specified column.\u001b[39;00m\n\u001b[0;32m   3825\u001b[0m \n\u001b[1;32m   (...)\u001b[0m\n\u001b[0;32m   3830\u001b[0m \u001b[39m    ensure homogeneity.\u001b[39;00m\n\u001b[0;32m   3831\u001b[0m \u001b[39m    \"\"\"\u001b[39;00m\n\u001b[1;32m-> 3832\u001b[0m     value \u001b[39m=\u001b[39m \u001b[39mself\u001b[39;49m\u001b[39m.\u001b[39;49m_sanitize_column(value)\n\u001b[0;32m   3834\u001b[0m     \u001b[39mif\u001b[39;00m (\n\u001b[0;32m   3835\u001b[0m         key \u001b[39min\u001b[39;00m \u001b[39mself\u001b[39m\u001b[39m.\u001b[39mcolumns\n\u001b[0;32m   3836\u001b[0m         \u001b[39mand\u001b[39;00m value\u001b[39m.\u001b[39mndim \u001b[39m==\u001b[39m \u001b[39m1\u001b[39m\n\u001b[0;32m   3837\u001b[0m         \u001b[39mand\u001b[39;00m \u001b[39mnot\u001b[39;00m is_extension_array_dtype(value)\n\u001b[0;32m   3838\u001b[0m     ):\n\u001b[0;32m   3839\u001b[0m         \u001b[39m# broadcast across multiple columns if necessary\u001b[39;00m\n\u001b[0;32m   3840\u001b[0m         \u001b[39mif\u001b[39;00m \u001b[39mnot\u001b[39;00m \u001b[39mself\u001b[39m\u001b[39m.\u001b[39mcolumns\u001b[39m.\u001b[39mis_unique \u001b[39mor\u001b[39;00m \u001b[39misinstance\u001b[39m(\u001b[39mself\u001b[39m\u001b[39m.\u001b[39mcolumns, MultiIndex):\n",
      "File \u001b[1;32mc:\\Users\\Laura\\anaconda3\\envs\\F21DL\\lib\\site-packages\\pandas\\core\\frame.py:4538\u001b[0m, in \u001b[0;36mDataFrame._sanitize_column\u001b[1;34m(self, value)\u001b[0m\n\u001b[0;32m   4535\u001b[0m     \u001b[39mreturn\u001b[39;00m _reindex_for_setitem(value, \u001b[39mself\u001b[39m\u001b[39m.\u001b[39mindex)\n\u001b[0;32m   4537\u001b[0m \u001b[39mif\u001b[39;00m is_list_like(value):\n\u001b[1;32m-> 4538\u001b[0m     com\u001b[39m.\u001b[39;49mrequire_length_match(value, \u001b[39mself\u001b[39;49m\u001b[39m.\u001b[39;49mindex)\n\u001b[0;32m   4539\u001b[0m \u001b[39mreturn\u001b[39;00m sanitize_array(value, \u001b[39mself\u001b[39m\u001b[39m.\u001b[39mindex, copy\u001b[39m=\u001b[39m\u001b[39mTrue\u001b[39;00m, allow_2d\u001b[39m=\u001b[39m\u001b[39mTrue\u001b[39;00m)\n",
      "File \u001b[1;32mc:\\Users\\Laura\\anaconda3\\envs\\F21DL\\lib\\site-packages\\pandas\\core\\common.py:557\u001b[0m, in \u001b[0;36mrequire_length_match\u001b[1;34m(data, index)\u001b[0m\n\u001b[0;32m    553\u001b[0m \u001b[39m\"\"\"\u001b[39;00m\n\u001b[0;32m    554\u001b[0m \u001b[39mCheck the length of data matches the length of the index.\u001b[39;00m\n\u001b[0;32m    555\u001b[0m \u001b[39m\"\"\"\u001b[39;00m\n\u001b[0;32m    556\u001b[0m \u001b[39mif\u001b[39;00m \u001b[39mlen\u001b[39m(data) \u001b[39m!=\u001b[39m \u001b[39mlen\u001b[39m(index):\n\u001b[1;32m--> 557\u001b[0m     \u001b[39mraise\u001b[39;00m \u001b[39mValueError\u001b[39;00m(\n\u001b[0;32m    558\u001b[0m         \u001b[39m\"\u001b[39m\u001b[39mLength of values \u001b[39m\u001b[39m\"\u001b[39m\n\u001b[0;32m    559\u001b[0m         \u001b[39mf\u001b[39m\u001b[39m\"\u001b[39m\u001b[39m(\u001b[39m\u001b[39m{\u001b[39;00m\u001b[39mlen\u001b[39m(data)\u001b[39m}\u001b[39;00m\u001b[39m) \u001b[39m\u001b[39m\"\u001b[39m\n\u001b[0;32m    560\u001b[0m         \u001b[39m\"\u001b[39m\u001b[39mdoes not match length of index \u001b[39m\u001b[39m\"\u001b[39m\n\u001b[0;32m    561\u001b[0m         \u001b[39mf\u001b[39m\u001b[39m\"\u001b[39m\u001b[39m(\u001b[39m\u001b[39m{\u001b[39;00m\u001b[39mlen\u001b[39m(index)\u001b[39m}\u001b[39;00m\u001b[39m)\u001b[39m\u001b[39m\"\u001b[39m\n\u001b[0;32m    562\u001b[0m     )\n",
      "\u001b[1;31mValueError\u001b[0m: Length of values (569) does not match length of index (56900)"
     ]
    }
   ],
   "source": [
    "res = pd.DataFrame()\n",
    "res['Predictions'] = perceptron.output\n",
    "res['Predictions'] = res['Predictions'].apply(lambda x: 0 if x < 0.5 else 1)\n",
    "res['Expectation'] = y\n",
    "\n",
    "print(\"Accuracy: \", res.loc[res['Predictions']==res['Expectation']].shape[0] / res.shape[0] * 100)"
   ]
  }
 ],
 "metadata": {
  "kernelspec": {
   "display_name": "Python 3.9.13 ('F21DL')",
   "language": "python",
   "name": "python3"
  },
  "language_info": {
   "codemirror_mode": {
    "name": "ipython",
    "version": 3
   },
   "file_extension": ".py",
   "mimetype": "text/x-python",
   "name": "python",
   "nbconvert_exporter": "python",
   "pygments_lexer": "ipython3",
   "version": "3.9.13"
  },
  "orig_nbformat": 4,
  "vscode": {
   "interpreter": {
    "hash": "d80a60b5cae90d0132c97af96d84f3faaaa5679a5193fa9421d1db0d11796e0e"
   }
  }
 },
 "nbformat": 4,
 "nbformat_minor": 2
}
